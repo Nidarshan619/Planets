{
  "nbformat": 4,
  "nbformat_minor": 0,
  "metadata": {
    "kernelspec": {
      "display_name": "Python 3",
      "language": "python",
      "name": "python3"
    },
    "language_info": {
      "codemirror_mode": {
        "name": "ipython",
        "version": 3
      },
      "file_extension": ".py",
      "mimetype": "text/x-python",
      "name": "python",
      "nbconvert_exporter": "python",
      "pygments_lexer": "ipython3",
      "version": "3.7.6"
    },
    "colab": {
      "name": "2_birds_airplanes.ipynb",
      "provenance": [],
      "include_colab_link": true
    },
    "widgets": {
      "application/vnd.jupyter.widget-state+json": {
        "c9be1721f644464c8fb0d2bcf517c4e5": {
          "model_module": "@jupyter-widgets/controls",
          "model_name": "HBoxModel",
          "model_module_version": "1.5.0",
          "state": {
            "_view_name": "HBoxView",
            "_dom_classes": [],
            "_model_name": "HBoxModel",
            "_view_module": "@jupyter-widgets/controls",
            "_model_module_version": "1.5.0",
            "_view_count": null,
            "_view_module_version": "1.5.0",
            "box_style": "",
            "layout": "IPY_MODEL_c086b486fce34e8a882d9db020f053bb",
            "_model_module": "@jupyter-widgets/controls",
            "children": [
              "IPY_MODEL_d4a14693bbd447b59d2dd85a2738115e",
              "IPY_MODEL_59e42d09947d48b5a3a48aba222745d4",
              "IPY_MODEL_04da7c9dec3c48e783b3c5d2dc216922"
            ]
          }
        },
        "c086b486fce34e8a882d9db020f053bb": {
          "model_module": "@jupyter-widgets/base",
          "model_name": "LayoutModel",
          "model_module_version": "1.2.0",
          "state": {
            "_view_name": "LayoutView",
            "grid_template_rows": null,
            "right": null,
            "justify_content": null,
            "_view_module": "@jupyter-widgets/base",
            "overflow": null,
            "_model_module_version": "1.2.0",
            "_view_count": null,
            "flex_flow": null,
            "width": null,
            "min_width": null,
            "border": null,
            "align_items": null,
            "bottom": null,
            "_model_module": "@jupyter-widgets/base",
            "top": null,
            "grid_column": null,
            "overflow_y": null,
            "overflow_x": null,
            "grid_auto_flow": null,
            "grid_area": null,
            "grid_template_columns": null,
            "flex": null,
            "_model_name": "LayoutModel",
            "justify_items": null,
            "grid_row": null,
            "max_height": null,
            "align_content": null,
            "visibility": null,
            "align_self": null,
            "height": null,
            "min_height": null,
            "padding": null,
            "grid_auto_rows": null,
            "grid_gap": null,
            "max_width": null,
            "order": null,
            "_view_module_version": "1.2.0",
            "grid_template_areas": null,
            "object_position": null,
            "object_fit": null,
            "grid_auto_columns": null,
            "margin": null,
            "display": null,
            "left": null
          }
        },
        "d4a14693bbd447b59d2dd85a2738115e": {
          "model_module": "@jupyter-widgets/controls",
          "model_name": "HTMLModel",
          "model_module_version": "1.5.0",
          "state": {
            "_view_name": "HTMLView",
            "style": "IPY_MODEL_34fca5f584c0437181d202bfa3370453",
            "_dom_classes": [],
            "description": "",
            "_model_name": "HTMLModel",
            "placeholder": "​",
            "_view_module": "@jupyter-widgets/controls",
            "_model_module_version": "1.5.0",
            "value": "",
            "_view_count": null,
            "_view_module_version": "1.5.0",
            "description_tooltip": null,
            "_model_module": "@jupyter-widgets/controls",
            "layout": "IPY_MODEL_721250375f0449cd82fefbd0865dc23d"
          }
        },
        "59e42d09947d48b5a3a48aba222745d4": {
          "model_module": "@jupyter-widgets/controls",
          "model_name": "FloatProgressModel",
          "model_module_version": "1.5.0",
          "state": {
            "_view_name": "ProgressView",
            "style": "IPY_MODEL_e31a20e3b16a4426b10876e1c8dfd5c7",
            "_dom_classes": [],
            "description": "",
            "_model_name": "FloatProgressModel",
            "bar_style": "success",
            "max": 170498071,
            "_view_module": "@jupyter-widgets/controls",
            "_model_module_version": "1.5.0",
            "value": 170498071,
            "_view_count": null,
            "_view_module_version": "1.5.0",
            "orientation": "horizontal",
            "min": 0,
            "description_tooltip": null,
            "_model_module": "@jupyter-widgets/controls",
            "layout": "IPY_MODEL_604ad9ea03bc42428f2a62611af9eb24"
          }
        },
        "04da7c9dec3c48e783b3c5d2dc216922": {
          "model_module": "@jupyter-widgets/controls",
          "model_name": "HTMLModel",
          "model_module_version": "1.5.0",
          "state": {
            "_view_name": "HTMLView",
            "style": "IPY_MODEL_6e826bc9f57a46efaea8459e10aac7c5",
            "_dom_classes": [],
            "description": "",
            "_model_name": "HTMLModel",
            "placeholder": "​",
            "_view_module": "@jupyter-widgets/controls",
            "_model_module_version": "1.5.0",
            "value": " 170499072/? [00:02&lt;00:00, 66728642.16it/s]",
            "_view_count": null,
            "_view_module_version": "1.5.0",
            "description_tooltip": null,
            "_model_module": "@jupyter-widgets/controls",
            "layout": "IPY_MODEL_10fa3b2e2d9f49d58f4a404b0f7fe3cd"
          }
        },
        "34fca5f584c0437181d202bfa3370453": {
          "model_module": "@jupyter-widgets/controls",
          "model_name": "DescriptionStyleModel",
          "model_module_version": "1.5.0",
          "state": {
            "_view_name": "StyleView",
            "_model_name": "DescriptionStyleModel",
            "description_width": "",
            "_view_module": "@jupyter-widgets/base",
            "_model_module_version": "1.5.0",
            "_view_count": null,
            "_view_module_version": "1.2.0",
            "_model_module": "@jupyter-widgets/controls"
          }
        },
        "721250375f0449cd82fefbd0865dc23d": {
          "model_module": "@jupyter-widgets/base",
          "model_name": "LayoutModel",
          "model_module_version": "1.2.0",
          "state": {
            "_view_name": "LayoutView",
            "grid_template_rows": null,
            "right": null,
            "justify_content": null,
            "_view_module": "@jupyter-widgets/base",
            "overflow": null,
            "_model_module_version": "1.2.0",
            "_view_count": null,
            "flex_flow": null,
            "width": null,
            "min_width": null,
            "border": null,
            "align_items": null,
            "bottom": null,
            "_model_module": "@jupyter-widgets/base",
            "top": null,
            "grid_column": null,
            "overflow_y": null,
            "overflow_x": null,
            "grid_auto_flow": null,
            "grid_area": null,
            "grid_template_columns": null,
            "flex": null,
            "_model_name": "LayoutModel",
            "justify_items": null,
            "grid_row": null,
            "max_height": null,
            "align_content": null,
            "visibility": null,
            "align_self": null,
            "height": null,
            "min_height": null,
            "padding": null,
            "grid_auto_rows": null,
            "grid_gap": null,
            "max_width": null,
            "order": null,
            "_view_module_version": "1.2.0",
            "grid_template_areas": null,
            "object_position": null,
            "object_fit": null,
            "grid_auto_columns": null,
            "margin": null,
            "display": null,
            "left": null
          }
        },
        "e31a20e3b16a4426b10876e1c8dfd5c7": {
          "model_module": "@jupyter-widgets/controls",
          "model_name": "ProgressStyleModel",
          "model_module_version": "1.5.0",
          "state": {
            "_view_name": "StyleView",
            "_model_name": "ProgressStyleModel",
            "description_width": "",
            "_view_module": "@jupyter-widgets/base",
            "_model_module_version": "1.5.0",
            "_view_count": null,
            "_view_module_version": "1.2.0",
            "bar_color": null,
            "_model_module": "@jupyter-widgets/controls"
          }
        },
        "604ad9ea03bc42428f2a62611af9eb24": {
          "model_module": "@jupyter-widgets/base",
          "model_name": "LayoutModel",
          "model_module_version": "1.2.0",
          "state": {
            "_view_name": "LayoutView",
            "grid_template_rows": null,
            "right": null,
            "justify_content": null,
            "_view_module": "@jupyter-widgets/base",
            "overflow": null,
            "_model_module_version": "1.2.0",
            "_view_count": null,
            "flex_flow": null,
            "width": null,
            "min_width": null,
            "border": null,
            "align_items": null,
            "bottom": null,
            "_model_module": "@jupyter-widgets/base",
            "top": null,
            "grid_column": null,
            "overflow_y": null,
            "overflow_x": null,
            "grid_auto_flow": null,
            "grid_area": null,
            "grid_template_columns": null,
            "flex": null,
            "_model_name": "LayoutModel",
            "justify_items": null,
            "grid_row": null,
            "max_height": null,
            "align_content": null,
            "visibility": null,
            "align_self": null,
            "height": null,
            "min_height": null,
            "padding": null,
            "grid_auto_rows": null,
            "grid_gap": null,
            "max_width": null,
            "order": null,
            "_view_module_version": "1.2.0",
            "grid_template_areas": null,
            "object_position": null,
            "object_fit": null,
            "grid_auto_columns": null,
            "margin": null,
            "display": null,
            "left": null
          }
        },
        "6e826bc9f57a46efaea8459e10aac7c5": {
          "model_module": "@jupyter-widgets/controls",
          "model_name": "DescriptionStyleModel",
          "model_module_version": "1.5.0",
          "state": {
            "_view_name": "StyleView",
            "_model_name": "DescriptionStyleModel",
            "description_width": "",
            "_view_module": "@jupyter-widgets/base",
            "_model_module_version": "1.5.0",
            "_view_count": null,
            "_view_module_version": "1.2.0",
            "_model_module": "@jupyter-widgets/controls"
          }
        },
        "10fa3b2e2d9f49d58f4a404b0f7fe3cd": {
          "model_module": "@jupyter-widgets/base",
          "model_name": "LayoutModel",
          "model_module_version": "1.2.0",
          "state": {
            "_view_name": "LayoutView",
            "grid_template_rows": null,
            "right": null,
            "justify_content": null,
            "_view_module": "@jupyter-widgets/base",
            "overflow": null,
            "_model_module_version": "1.2.0",
            "_view_count": null,
            "flex_flow": null,
            "width": null,
            "min_width": null,
            "border": null,
            "align_items": null,
            "bottom": null,
            "_model_module": "@jupyter-widgets/base",
            "top": null,
            "grid_column": null,
            "overflow_y": null,
            "overflow_x": null,
            "grid_auto_flow": null,
            "grid_area": null,
            "grid_template_columns": null,
            "flex": null,
            "_model_name": "LayoutModel",
            "justify_items": null,
            "grid_row": null,
            "max_height": null,
            "align_content": null,
            "visibility": null,
            "align_self": null,
            "height": null,
            "min_height": null,
            "padding": null,
            "grid_auto_rows": null,
            "grid_gap": null,
            "max_width": null,
            "order": null,
            "_view_module_version": "1.2.0",
            "grid_template_areas": null,
            "object_position": null,
            "object_fit": null,
            "grid_auto_columns": null,
            "margin": null,
            "display": null,
            "left": null
          }
        }
      }
    }
  },
  "cells": [
    {
      "cell_type": "markdown",
      "metadata": {
        "id": "view-in-github",
        "colab_type": "text"
      },
      "source": [
        "<a href=\"https://colab.research.google.com/github/Nidarshan619/Planets/blob/master/DLinPytorch_Book/p1ch7/2_birds_airplanes.ipynb\" target=\"_parent\"><img src=\"https://colab.research.google.com/assets/colab-badge.svg\" alt=\"Open In Colab\"/></a>"
      ]
    },
    {
      "cell_type": "code",
      "metadata": {
        "id": "JoI3GTPk5Gc_",
        "outputId": "f0e53438-977c-431f-d70a-b2bb96ca53bd",
        "colab": {
          "base_uri": "https://localhost:8080/"
        }
      },
      "source": [
        "%matplotlib inline\n",
        "from matplotlib import pyplot as plt\n",
        "import numpy as np\n",
        "import torch\n",
        "\n",
        "torch.set_printoptions(edgeitems=2)\n",
        "torch.manual_seed(123)"
      ],
      "execution_count": 2,
      "outputs": [
        {
          "output_type": "execute_result",
          "data": {
            "text/plain": [
              "<torch._C.Generator at 0x7f13b89d8930>"
            ]
          },
          "metadata": {
            "tags": []
          },
          "execution_count": 2
        }
      ]
    },
    {
      "cell_type": "code",
      "metadata": {
        "id": "2n_ci3IF5GdC"
      },
      "source": [
        "class_names = ['airplane','automobile','bird','cat','deer',\n",
        "               'dog','frog','horse','ship','truck']"
      ],
      "execution_count": 3,
      "outputs": []
    },
    {
      "cell_type": "code",
      "metadata": {
        "id": "psIpQ7kN5GdD",
        "outputId": "d7f597ed-5b93-49bc-caa4-904af6148334",
        "colab": {
          "base_uri": "https://localhost:8080/",
          "height": 84,
          "referenced_widgets": [
            "c9be1721f644464c8fb0d2bcf517c4e5",
            "c086b486fce34e8a882d9db020f053bb",
            "d4a14693bbd447b59d2dd85a2738115e",
            "59e42d09947d48b5a3a48aba222745d4",
            "04da7c9dec3c48e783b3c5d2dc216922",
            "34fca5f584c0437181d202bfa3370453",
            "721250375f0449cd82fefbd0865dc23d",
            "e31a20e3b16a4426b10876e1c8dfd5c7",
            "604ad9ea03bc42428f2a62611af9eb24",
            "6e826bc9f57a46efaea8459e10aac7c5",
            "10fa3b2e2d9f49d58f4a404b0f7fe3cd"
          ]
        }
      },
      "source": [
        "from torchvision import datasets, transforms\n",
        "data_path = '../data-unversioned/p1ch7/'\n",
        "cifar10 = datasets.CIFAR10(\n",
        "    data_path, train=True, download=True,\n",
        "    transform=transforms.Compose([\n",
        "        transforms.ToTensor(),\n",
        "        transforms.Normalize((0.4915, 0.4823, 0.4468),\n",
        "                             (0.2470, 0.2435, 0.2616))\n",
        "    ]))"
      ],
      "execution_count": 4,
      "outputs": [
        {
          "output_type": "stream",
          "text": [
            "Downloading https://www.cs.toronto.edu/~kriz/cifar-10-python.tar.gz to ../data-unversioned/p1ch7/cifar-10-python.tar.gz\n"
          ],
          "name": "stdout"
        },
        {
          "output_type": "display_data",
          "data": {
            "application/vnd.jupyter.widget-view+json": {
              "model_id": "c9be1721f644464c8fb0d2bcf517c4e5",
              "version_minor": 0,
              "version_major": 2
            },
            "text/plain": [
              "  0%|          | 0/170498071 [00:00<?, ?it/s]"
            ]
          },
          "metadata": {
            "tags": []
          }
        },
        {
          "output_type": "stream",
          "text": [
            "Extracting ../data-unversioned/p1ch7/cifar-10-python.tar.gz to ../data-unversioned/p1ch7/\n"
          ],
          "name": "stdout"
        }
      ]
    },
    {
      "cell_type": "code",
      "metadata": {
        "id": "eN08tNB75GdF",
        "outputId": "c84b0aa9-16e6-424f-a0e2-8729c7d3fcb7",
        "colab": {
          "base_uri": "https://localhost:8080/"
        }
      },
      "source": [
        "cifar10_val = datasets.CIFAR10(\n",
        "    data_path, train=False, download=True,\n",
        "    transform=transforms.Compose([\n",
        "        transforms.ToTensor(),\n",
        "        transforms.Normalize((0.4915, 0.4823, 0.4468),\n",
        "                             (0.2470, 0.2435, 0.2616))\n",
        "    ]))"
      ],
      "execution_count": 5,
      "outputs": [
        {
          "output_type": "stream",
          "text": [
            "Files already downloaded and verified\n"
          ],
          "name": "stdout"
        }
      ]
    },
    {
      "cell_type": "code",
      "metadata": {
        "id": "8KKEzsyM5ZwV"
      },
      "source": [
        "class_names = ['airplane', 'bird']"
      ],
      "execution_count": 6,
      "outputs": []
    },
    {
      "cell_type": "code",
      "metadata": {
        "id": "K788sVdv5GdG"
      },
      "source": [
        "label_map = {0: 0, 2: 1}\n",
        "class_names = ['airplane', 'bird']\n",
        "cifar2 = [(img, label_map[label])\n",
        "          for img, label in cifar10 \n",
        "          if label in [0, 2]]\n",
        "cifar2_val = [(img, label_map[label])\n",
        "              for img, label in cifar10_val\n",
        "              if label in [0, 2]]"
      ],
      "execution_count": 7,
      "outputs": []
    },
    {
      "cell_type": "code",
      "metadata": {
        "id": "jhca-i895GdH"
      },
      "source": [
        "import torch.nn as nn\n",
        "\n",
        "n_out = 2\n",
        "\n",
        "model = nn.Sequential(\n",
        "            nn.Linear(\n",
        "                3072,  # <1>\n",
        "                512,   # <2>\n",
        "            ),\n",
        "            nn.Tanh(),\n",
        "            nn.Linear(\n",
        "                512,   # <2>\n",
        "                n_out, # <3>\n",
        "            )\n",
        "        )"
      ],
      "execution_count": 11,
      "outputs": []
    },
    {
      "cell_type": "code",
      "metadata": {
        "id": "M22B-1h-7OHH"
      },
      "source": [
        "import torch.nn as nn\n",
        "\n",
        "model = nn.Sequential(\n",
        "    nn.Linear(3072,512),\n",
        "    nn.Tanh(),\n",
        "    nn.Linear(512,2),\n",
        "    nn.Softmax(dim=1)\n",
        ")"
      ],
      "execution_count": 20,
      "outputs": []
    },
    {
      "cell_type": "code",
      "metadata": {
        "id": "SFSD8ryt5GdI"
      },
      "source": [
        "def softmax(x):\n",
        "    return torch.exp(x) / torch.exp(x).sum()"
      ],
      "execution_count": 9,
      "outputs": []
    },
    {
      "cell_type": "code",
      "metadata": {
        "id": "GTf3pXwm5GdK"
      },
      "source": [
        "import torch"
      ],
      "execution_count": 22,
      "outputs": []
    },
    {
      "cell_type": "code",
      "metadata": {
        "id": "hypgg6CT5GdL",
        "outputId": "f40718d2-1d3e-4264-c988-0d62201c2ed1",
        "colab": {
          "base_uri": "https://localhost:8080/"
        }
      },
      "source": [
        "softmax(x).sum()"
      ],
      "execution_count": 12,
      "outputs": [
        {
          "output_type": "execute_result",
          "data": {
            "text/plain": [
              "tensor(1.)"
            ]
          },
          "metadata": {
            "tags": []
          },
          "execution_count": 12
        }
      ]
    },
    {
      "cell_type": "code",
      "metadata": {
        "id": "Xze-wcOI5GdN",
        "outputId": "3838d1fe-0804-4b53-e313-6c3f75460741",
        "colab": {
          "base_uri": "https://localhost:8080/"
        }
      },
      "source": [
        "softmax = nn.Softmax(dim=1)\n",
        "\n",
        "x = torch.tensor([[1.0, 2.0, 3.0],\n",
        "                  [1.0, 2.0, 3.0]])\n",
        "\n",
        "softmax(x)"
      ],
      "execution_count": 23,
      "outputs": [
        {
          "output_type": "execute_result",
          "data": {
            "text/plain": [
              "tensor([[0.0900, 0.2447, 0.6652],\n",
              "        [0.0900, 0.2447, 0.6652]])"
            ]
          },
          "metadata": {
            "tags": []
          },
          "execution_count": 23
        }
      ]
    },
    {
      "cell_type": "code",
      "metadata": {
        "id": "EqN796h-5GdO"
      },
      "source": [
        "model = nn.Sequential(\n",
        "            nn.Linear(3072, 512),\n",
        "            nn.Tanh(),\n",
        "            nn.Linear(512, 2),\n",
        "            nn.Softmax(dim=1))"
      ],
      "execution_count": 19,
      "outputs": []
    },
    {
      "cell_type": "code",
      "metadata": {
        "id": "qHZ9CmA25GdO",
        "outputId": "2fb381e5-c968-4af1-ea0c-8b94919b9e98",
        "colab": {
          "base_uri": "https://localhost:8080/",
          "height": 284
        }
      },
      "source": [
        "img, _ = cifar2[0]\n",
        "import matplotlib.pyplot as plt\n",
        "\n",
        "\n",
        "plt.imshow(img.permute(1, 2, 0))\n",
        "plt.show()"
      ],
      "execution_count": 30,
      "outputs": [
        {
          "output_type": "stream",
          "text": [
            "Clipping input data to the valid range for imshow with RGB data ([0..1] for floats or [0..255] for integers).\n"
          ],
          "name": "stderr"
        },
        {
          "output_type": "display_data",
          "data": {
            "image/png": "[encoded data removed]",
            "text/plain": [
              "<Figure size 432x288 with 1 Axes>"
            ]
          },
          "metadata": {
            "tags": [],
            "needs_background": "light"
          }
        }
      ]
    },
    {
      "cell_type": "code",
      "metadata": {
        "id": "nlPbl2Ug9Hg0",
        "outputId": "5a6d2609-3562-4cbc-f29e-16aa9a6ec41f",
        "colab": {
          "base_uri": "https://localhost:8080/"
        }
      },
      "source": [
        "img.shape\n"
      ],
      "execution_count": 31,
      "outputs": [
        {
          "output_type": "execute_result",
          "data": {
            "text/plain": [
              "torch.Size([3, 32, 32])"
            ]
          },
          "metadata": {
            "tags": []
          },
          "execution_count": 31
        }
      ]
    },
    {
      "cell_type": "code",
      "metadata": {
        "id": "4h1Y82O1PQHJ",
        "outputId": "6b530fd0-c57d-4b0d-e87c-9b8bf5b74b08",
        "colab": {
          "base_uri": "https://localhost:8080/"
        }
      },
      "source": [
        "img.view(-1).shape\n"
      ],
      "execution_count": 26,
      "outputs": [
        {
          "output_type": "execute_result",
          "data": {
            "text/plain": [
              "torch.Size([3072])"
            ]
          },
          "metadata": {
            "tags": []
          },
          "execution_count": 26
        }
      ]
    },
    {
      "cell_type": "code",
      "metadata": {
        "id": "ioKM1bMb5GdP"
      },
      "source": [
        "img_batch = img.view(-1).unsqueeze(0)"
      ],
      "execution_count": 27,
      "outputs": []
    },
    {
      "cell_type": "code",
      "metadata": {
        "id": "CzH8urS9Pe4n",
        "outputId": "cf6ff5f0-8cbf-48fe-b8d6-27e46261f6ef",
        "colab": {
          "base_uri": "https://localhost:8080/"
        }
      },
      "source": [
        "img_batch.shape"
      ],
      "execution_count": 28,
      "outputs": [
        {
          "output_type": "execute_result",
          "data": {
            "text/plain": [
              "torch.Size([1, 3072])"
            ]
          },
          "metadata": {
            "tags": []
          },
          "execution_count": 28
        }
      ]
    },
    {
      "cell_type": "code",
      "metadata": {
        "id": "wAAUGm6Q5GdP",
        "outputId": "4a65dc8d-c80d-466f-94ca-b30a125b1bc8",
        "colab": {
          "base_uri": "https://localhost:8080/"
        }
      },
      "source": [
        "out = model(img_batch)\n",
        "out"
      ],
      "execution_count": 37,
      "outputs": [
        {
          "output_type": "execute_result",
          "data": {
            "text/plain": [
              "tensor([[0.4659, 0.5341]], grad_fn=<SoftmaxBackward>)"
            ]
          },
          "metadata": {
            "tags": []
          },
          "execution_count": 37
        }
      ]
    },
    {
      "cell_type": "code",
      "metadata": {
        "id": "0t83NE-25GdQ",
        "outputId": "1834a594-4065-4567-d5a3-d70e46caafd7",
        "colab": {
          "base_uri": "https://localhost:8080/"
        }
      },
      "source": [
        "_, index = torch.max(out, dim=0)\n",
        "\n",
        "index"
      ],
      "execution_count": 34,
      "outputs": [
        {
          "output_type": "execute_result",
          "data": {
            "text/plain": [
              "tensor([0, 0])"
            ]
          },
          "metadata": {
            "tags": []
          },
          "execution_count": 34
        }
      ]
    },
    {
      "cell_type": "code",
      "metadata": {
        "id": "DcBK4923crXP",
        "outputId": "ff74db88-6e9c-43c1-9d37-a551785e9161",
        "colab": {
          "base_uri": "https://localhost:8080/"
        }
      },
      "source": [
        "out = torch.tensor([\n",
        "    [0.6, 0.4],\n",
        "    [0.9, 0.1],\n",
        "    [0.3, 0.7],\n",
        "    [0.2, 0.8],\n",
        "])\n",
        "out.shape"
      ],
      "execution_count": 39,
      "outputs": [
        {
          "output_type": "execute_result",
          "data": {
            "text/plain": [
              "torch.Size([4, 2])"
            ]
          },
          "metadata": {
            "tags": []
          },
          "execution_count": 39
        }
      ]
    },
    {
      "cell_type": "code",
      "metadata": {
        "id": "H9QhT0eKcwqR",
        "outputId": "2eafa66c-f4fc-4b0a-c0e2-fb421a98eda9",
        "colab": {
          "base_uri": "https://localhost:8080/"
        }
      },
      "source": [
        "\n",
        "class_index = torch.tensor([0, 0, 1, 1]).unsqueeze(1)\n",
        "class_index.shape"
      ],
      "execution_count": 40,
      "outputs": [
        {
          "output_type": "execute_result",
          "data": {
            "text/plain": [
              "torch.Size([4, 1])"
            ]
          },
          "metadata": {
            "tags": []
          },
          "execution_count": 40
        }
      ]
    },
    {
      "cell_type": "code",
      "metadata": {
        "id": "YXQmNCTc5GdQ",
        "outputId": "894da7a8-dc36-44b0-a63e-c5774071fceb",
        "colab": {
          "base_uri": "https://localhost:8080/"
        }
      },
      "source": [
        "out = torch.tensor([\n",
        "    [0.6, 0.4],\n",
        "    [0.9, 0.1],\n",
        "    [0.3, 0.7],\n",
        "    [0.2, 0.8],\n",
        "])\n",
        "class_index = torch.tensor([0, 0, 1, 1]).unsqueeze(1)\n",
        "\n",
        "truth = torch.zeros((4,2))\n",
        "truth.scatter_(dim=1, index=class_index, value=1.0)\n",
        "truth"
      ],
      "execution_count": 45,
      "outputs": [
        {
          "output_type": "execute_result",
          "data": {
            "text/plain": [
              "tensor([[1., 0.],\n",
              "        [1., 0.],\n",
              "        [0., 1.],\n",
              "        [0., 1.]])"
            ]
          },
          "metadata": {
            "tags": []
          },
          "execution_count": 45
        }
      ]
    },
    {
      "cell_type": "code",
      "metadata": {
        "id": "EirGFSeS5GdR",
        "outputId": "ee4c4698-0453-4337-d84e-8a4d938ccb43",
        "colab": {
          "base_uri": "https://localhost:8080/"
        }
      },
      "source": [
        "def mse(out):\n",
        "    return ((out - truth) ** 2).sum(dim=1).mean()\n",
        "mse(out)"
      ],
      "execution_count": 46,
      "outputs": [
        {
          "output_type": "execute_result",
          "data": {
            "text/plain": [
              "tensor(0.1500)"
            ]
          },
          "metadata": {
            "tags": []
          },
          "execution_count": 46
        }
      ]
    },
    {
      "cell_type": "code",
      "metadata": {
        "id": "S1Aw4Mn568FR",
        "outputId": "6cf22158-206e-43df-f167-1cc4818c3aff",
        "colab": {
          "base_uri": "https://localhost:8080/"
        }
      },
      "source": [
        "out"
      ],
      "execution_count": 47,
      "outputs": [
        {
          "output_type": "execute_result",
          "data": {
            "text/plain": [
              "tensor([[0.6000, 0.4000],\n",
              "        [0.9000, 0.1000],\n",
              "        [0.3000, 0.7000],\n",
              "        [0.2000, 0.8000]])"
            ]
          },
          "metadata": {
            "tags": []
          },
          "execution_count": 47
        }
      ]
    },
    {
      "cell_type": "code",
      "metadata": {
        "id": "OSmUW7G55GdR",
        "outputId": "543e6a9a-1463-41e3-b396-519662bd469e",
        "colab": {
          "base_uri": "https://localhost:8080/"
        }
      },
      "source": [
        "out.gather(dim=1, index=class_index)"
      ],
      "execution_count": 49,
      "outputs": [
        {
          "output_type": "execute_result",
          "data": {
            "text/plain": [
              "tensor([[0.6000],\n",
              "        [0.9000],\n",
              "        [0.7000],\n",
              "        [0.8000]])"
            ]
          },
          "metadata": {
            "tags": []
          },
          "execution_count": 49
        }
      ]
    },
    {
      "cell_type": "code",
      "metadata": {
        "id": "s4XniPTu5GdS",
        "outputId": "765ecbb1-9202-47f8-decd-729480a26840",
        "colab": {
          "base_uri": "https://localhost:8080/"
        }
      },
      "source": [
        "def likelihood(out):\n",
        "    prod = 1.0\n",
        "    for x in out.gather(dim=1, index=class_index):\n",
        "        prod *= x\n",
        "    return prod\n",
        "\n",
        "likelihood(out)"
      ],
      "execution_count": 50,
      "outputs": [
        {
          "output_type": "execute_result",
          "data": {
            "text/plain": [
              "tensor([0.3024])"
            ]
          },
          "metadata": {
            "tags": []
          },
          "execution_count": 50
        }
      ]
    },
    {
      "cell_type": "code",
      "metadata": {
        "id": "P_rolccb5GdS",
        "outputId": "009ee8a5-2d5b-437a-f1b5-60a4a0a97cdf",
        "colab": {
          "base_uri": "https://localhost:8080/"
        }
      },
      "source": [
        "def neg_log_likelihood(out):\n",
        "    return -likelihood(out).log()\n",
        "\n",
        "neg_log_likelihood(out)"
      ],
      "execution_count": 51,
      "outputs": [
        {
          "output_type": "execute_result",
          "data": {
            "text/plain": [
              "tensor([1.1960])"
            ]
          },
          "metadata": {
            "tags": []
          },
          "execution_count": 51
        }
      ]
    },
    {
      "cell_type": "code",
      "metadata": {
        "id": "Ea8UfYXxXBH6",
        "outputId": "aeafb56e-18ca-4af1-9e42-b0aaa5caa6d9",
        "colab": {
          "base_uri": "https://localhost:8080/"
        }
      },
      "source": [
        "out0 = out.clone().detach()\n",
        "out0[0]"
      ],
      "execution_count": 55,
      "outputs": [
        {
          "output_type": "execute_result",
          "data": {
            "text/plain": [
              "tensor([0.6000, 0.4000])"
            ]
          },
          "metadata": {
            "tags": []
          },
          "execution_count": 55
        }
      ]
    },
    {
      "cell_type": "code",
      "metadata": {
        "id": "Jfq-FFs_5GdT",
        "outputId": "1288c969-e58d-40a8-de29-c7d5c4b98495",
        "colab": {
          "base_uri": "https://localhost:8080/"
        }
      },
      "source": [
        "out0 = out.clone().detach()\n",
        "out0[0] = torch.tensor([0.9, 0.1]) # more right\n",
        "\n",
        "out2 = out.clone().detach()\n",
        "out2[0] = torch.tensor([0.4, 0.6]) # slightly wrong\n",
        "\n",
        "out3 = out.clone().detach()\n",
        "out3[0] = torch.tensor([0.1, 0.9]) # very wrong\n",
        "\n",
        "mse_comparison = torch.tensor([mse(o) for o in [out0, out, out2, out3]])\n",
        "mse_comparison"
      ],
      "execution_count": 57,
      "outputs": [
        {
          "output_type": "execute_result",
          "data": {
            "text/plain": [
              "tensor([0.0750, 0.1500, 0.2500, 0.4750])"
            ]
          },
          "metadata": {
            "tags": []
          },
          "execution_count": 57
        }
      ]
    },
    {
      "cell_type": "code",
      "metadata": {
        "id": "7NssosE-ZJD6",
        "outputId": "e6114439-f302-4634-a6a2-681c35088157",
        "colab": {
          "base_uri": "https://localhost:8080/"
        }
      },
      "source": [
        "[out0, out, out2, out3]\n"
      ],
      "execution_count": 61,
      "outputs": [
        {
          "output_type": "execute_result",
          "data": {
            "text/plain": [
              "[tensor([[0.9000, 0.1000],\n",
              "         [0.9000, 0.1000],\n",
              "         [0.3000, 0.7000],\n",
              "         [0.2000, 0.8000]]), tensor([[0.6000, 0.4000],\n",
              "         [0.9000, 0.1000],\n",
              "         [0.3000, 0.7000],\n",
              "         [0.2000, 0.8000]]), tensor([[0.4000, 0.6000],\n",
              "         [0.9000, 0.1000],\n",
              "         [0.3000, 0.7000],\n",
              "         [0.2000, 0.8000]]), tensor([[0.1000, 0.9000],\n",
              "         [0.9000, 0.1000],\n",
              "         [0.3000, 0.7000],\n",
              "         [0.2000, 0.8000]])]"
            ]
          },
          "metadata": {
            "tags": []
          },
          "execution_count": 61
        }
      ]
    },
    {
      "cell_type": "code",
      "metadata": {
        "id": "4cVHNwqq5GdT",
        "outputId": "c0ed18d2-f6d5-4097-aab5-d2d1865e764e",
        "colab": {
          "base_uri": "https://localhost:8080/"
        }
      },
      "source": [
        "((mse_comparison / mse_comparison[1]) - 1) * 100"
      ],
      "execution_count": 62,
      "outputs": [
        {
          "output_type": "execute_result",
          "data": {
            "text/plain": [
              "tensor([-50.0000,   0.0000,  66.6667, 216.6667])"
            ]
          },
          "metadata": {
            "tags": []
          },
          "execution_count": 62
        }
      ]
    },
    {
      "cell_type": "code",
      "metadata": {
        "id": "_ko-vJS55GdT",
        "outputId": "6aee0708-81df-443f-d1cf-d4e125412f82",
        "colab": {
          "base_uri": "https://localhost:8080/"
        }
      },
      "source": [
        "nll_comparison = torch.tensor([neg_log_likelihood(o) \n",
        "                               for o in [out0, out, out2, out3]])\n",
        "nll_comparison"
      ],
      "execution_count": 64,
      "outputs": [
        {
          "output_type": "execute_result",
          "data": {
            "text/plain": [
              "tensor([0.7905, 1.1960, 1.6015, 2.9878])"
            ]
          },
          "metadata": {
            "tags": []
          },
          "execution_count": 64
        }
      ]
    },
    {
      "cell_type": "code",
      "metadata": {
        "id": "-8rKad7e5GdU",
        "outputId": "a93a2a50-fcd9-48b7-cee2-cd71af5b5461",
        "colab": {
          "base_uri": "https://localhost:8080/"
        }
      },
      "source": [
        "((nll_comparison / nll_comparison[1]) - 1) * 100"
      ],
      "execution_count": 65,
      "outputs": [
        {
          "output_type": "execute_result",
          "data": {
            "text/plain": [
              "tensor([-33.9016,   0.0000,  33.9016, 149.8121])"
            ]
          },
          "metadata": {
            "tags": []
          },
          "execution_count": 65
        }
      ]
    },
    {
      "cell_type": "code",
      "metadata": {
        "id": "un_IpP-55GdU",
        "outputId": "e6cf6996-71d5-4863-d8b9-4b673bdcd3a7",
        "colab": {
          "base_uri": "https://localhost:8080/"
        }
      },
      "source": [
        "softmax = nn.Softmax(dim=1)\n",
        "\n",
        "log_softmax = nn.LogSoftmax(dim=1)\n",
        "\n",
        "x = torch.tensor([[0.0, 104.0]])\n",
        "\n",
        "log_softmax(x)"
      ],
      "execution_count": 66,
      "outputs": [
        {
          "output_type": "execute_result",
          "data": {
            "text/plain": [
              "tensor([[-104.,    0.]])"
            ]
          },
          "metadata": {
            "tags": []
          },
          "execution_count": 66
        }
      ]
    },
    {
      "cell_type": "code",
      "metadata": {
        "id": "5fp7EOg95GdU",
        "outputId": "2d6aa423-6c33-48a5-c14c-6f96c91e889d",
        "colab": {
          "base_uri": "https://localhost:8080/"
        }
      },
      "source": [
        "softmax = nn.Softmax(dim=1)\n",
        "\n",
        "log_softmax = nn.LogSoftmax(dim=1)\n",
        "\n",
        "x = torch.tensor([[0.0, 104.0]])\n",
        "\n",
        "softmax(x)"
      ],
      "execution_count": 29,
      "outputs": [
        {
          "output_type": "execute_result",
          "data": {
            "text/plain": [
              "tensor([[0., 1.]])"
            ]
          },
          "metadata": {
            "tags": []
          },
          "execution_count": 29
        }
      ]
    },
    {
      "cell_type": "code",
      "metadata": {
        "id": "jI46iVt65GdV",
        "outputId": "d2812ced-009f-4ace-9e4a-017612a9cace",
        "colab": {
          "base_uri": "https://localhost:8080/"
        }
      },
      "source": [
        "torch.log(softmax(x))"
      ],
      "execution_count": 30,
      "outputs": [
        {
          "output_type": "execute_result",
          "data": {
            "text/plain": [
              "tensor([[-inf, 0.]])"
            ]
          },
          "metadata": {
            "tags": []
          },
          "execution_count": 30
        }
      ]
    },
    {
      "cell_type": "code",
      "metadata": {
        "id": "2jCR9aOc5GdV",
        "outputId": "26597f9f-4d39-4d5a-966d-fd32db08e26d",
        "colab": {
          "base_uri": "https://localhost:8080/"
        }
      },
      "source": [
        "log_softmax(x)"
      ],
      "execution_count": 31,
      "outputs": [
        {
          "output_type": "execute_result",
          "data": {
            "text/plain": [
              "tensor([[-104.,    0.]])"
            ]
          },
          "metadata": {
            "tags": []
          },
          "execution_count": 31
        }
      ]
    },
    {
      "cell_type": "code",
      "metadata": {
        "id": "6-uj-gLj5GdV",
        "outputId": "f0cee08c-0b37-41d1-b948-f76d2d46038e",
        "colab": {
          "base_uri": "https://localhost:8080/"
        }
      },
      "source": [
        "torch.exp(log_softmax(x))"
      ],
      "execution_count": 32,
      "outputs": [
        {
          "output_type": "execute_result",
          "data": {
            "text/plain": [
              "tensor([[0., 1.]])"
            ]
          },
          "metadata": {
            "tags": []
          },
          "execution_count": 32
        }
      ]
    },
    {
      "cell_type": "code",
      "metadata": {
        "id": "LSClRgSR5GdV"
      },
      "source": [
        "model = nn.Sequential(\n",
        "            nn.Linear(3072, 512),\n",
        "            nn.Tanh(),\n",
        "            nn.Linear(512, 2),\n",
        "            nn.LogSoftmax(dim=1))"
      ],
      "execution_count": 67,
      "outputs": []
    },
    {
      "cell_type": "code",
      "metadata": {
        "id": "4GZ7Au4-5GdW"
      },
      "source": [
        "loss = nn.NLLLoss()"
      ],
      "execution_count": 34,
      "outputs": []
    },
    {
      "cell_type": "code",
      "metadata": {
        "id": "Q0pZ0CFL5GdW",
        "outputId": "245a5f28-1fd5-4629-ecec-c5dad089cf39",
        "colab": {
          "base_uri": "https://localhost:8080/"
        }
      },
      "source": [
        "img, label = cifar2[0]\n",
        "\n",
        "out = model(img.view(-1).unsqueeze(0))\n",
        "\n",
        "loss(out, torch.tensor([label]))"
      ],
      "execution_count": 35,
      "outputs": [
        {
          "output_type": "execute_result",
          "data": {
            "text/plain": [
              "tensor(0.5077, grad_fn=<NllLossBackward>)"
            ]
          },
          "metadata": {
            "tags": []
          },
          "execution_count": 35
        }
      ]
    },
    {
      "cell_type": "code",
      "metadata": {
        "id": "Ngs0bMxh5GdW",
        "outputId": "ed0a8089-e222-4bb0-d418-9fd73ba075b8",
        "colab": {
          "base_uri": "https://localhost:8080/",
          "height": 596
        }
      },
      "source": [
        "import torch\n",
        "import torch.nn as nn\n",
        "import torch.optim as optim\n",
        "\n",
        "model = nn.Sequential(\n",
        "            nn.Linear(3072, 512),\n",
        "            nn.Tanh(),\n",
        "            nn.Linear(512, 2),\n",
        "            nn.LogSoftmax(dim=1))\n",
        "\n",
        "learning_rate = 1e-2\n",
        "\n",
        "optimizer = optim.SGD(model.parameters(), lr=learning_rate)\n",
        "\n",
        "loss_fn = nn.NLLLoss()\n",
        "\n",
        "n_epochs = 100\n",
        "\n",
        "for epoch in range(n_epochs):\n",
        "    for img, label in cifar2:\n",
        "        out = model(img.view(-1).unsqueeze(0))\n",
        "        loss = loss_fn(out, torch.tensor([label]))\n",
        "                \n",
        "        optimizer.zero_grad()\n",
        "        loss.backward()\n",
        "        optimizer.step()\n",
        "\n",
        "    print(\"Epoch: %d, Loss: %f\" % (epoch, float(loss)))"
      ],
      "execution_count": 68,
      "outputs": [
        {
          "output_type": "stream",
          "text": [
            "Epoch: 0, Loss: 5.521080\n",
            "Epoch: 1, Loss: 6.631064\n",
            "Epoch: 2, Loss: 6.961488\n",
            "Epoch: 3, Loss: 2.411923\n",
            "Epoch: 4, Loss: 3.662627\n",
            "Epoch: 5, Loss: 8.060578\n",
            "Epoch: 6, Loss: 5.514404\n",
            "Epoch: 7, Loss: 7.718280\n",
            "Epoch: 8, Loss: 11.262946\n",
            "Epoch: 9, Loss: 9.005001\n",
            "Epoch: 10, Loss: 7.300039\n",
            "Epoch: 11, Loss: 6.046356\n"
          ],
          "name": "stdout"
        },
        {
          "output_type": "error",
          "ename": "KeyboardInterrupt",
          "evalue": "ignored",
          "traceback": [
            "\u001b[0;31m---------------------------------------------------------------------------\u001b[0m",
            "\u001b[0;31mKeyboardInterrupt\u001b[0m                         Traceback (most recent call last)",
            "\u001b[0;32m<ipython-input-68-4e3efe3d6b65>\u001b[0m in \u001b[0;36m<module>\u001b[0;34m()\u001b[0m\n\u001b[1;32m     23\u001b[0m \u001b[0;34m\u001b[0m\u001b[0m\n\u001b[1;32m     24\u001b[0m         \u001b[0moptimizer\u001b[0m\u001b[0;34m.\u001b[0m\u001b[0mzero_grad\u001b[0m\u001b[0;34m(\u001b[0m\u001b[0;34m)\u001b[0m\u001b[0;34m\u001b[0m\u001b[0;34m\u001b[0m\u001b[0m\n\u001b[0;32m---> 25\u001b[0;31m         \u001b[0mloss\u001b[0m\u001b[0;34m.\u001b[0m\u001b[0mbackward\u001b[0m\u001b[0;34m(\u001b[0m\u001b[0;34m)\u001b[0m\u001b[0;34m\u001b[0m\u001b[0;34m\u001b[0m\u001b[0m\n\u001b[0m\u001b[1;32m     26\u001b[0m         \u001b[0moptimizer\u001b[0m\u001b[0;34m.\u001b[0m\u001b[0mstep\u001b[0m\u001b[0;34m(\u001b[0m\u001b[0;34m)\u001b[0m\u001b[0;34m\u001b[0m\u001b[0;34m\u001b[0m\u001b[0m\n\u001b[1;32m     27\u001b[0m \u001b[0;34m\u001b[0m\u001b[0m\n",
            "\u001b[0;32m/usr/local/lib/python3.7/dist-packages/torch/_tensor.py\u001b[0m in \u001b[0;36mbackward\u001b[0;34m(self, gradient, retain_graph, create_graph, inputs)\u001b[0m\n\u001b[1;32m    253\u001b[0m                 \u001b[0mcreate_graph\u001b[0m\u001b[0;34m=\u001b[0m\u001b[0mcreate_graph\u001b[0m\u001b[0;34m,\u001b[0m\u001b[0;34m\u001b[0m\u001b[0;34m\u001b[0m\u001b[0m\n\u001b[1;32m    254\u001b[0m                 inputs=inputs)\n\u001b[0;32m--> 255\u001b[0;31m         \u001b[0mtorch\u001b[0m\u001b[0;34m.\u001b[0m\u001b[0mautograd\u001b[0m\u001b[0;34m.\u001b[0m\u001b[0mbackward\u001b[0m\u001b[0;34m(\u001b[0m\u001b[0mself\u001b[0m\u001b[0;34m,\u001b[0m \u001b[0mgradient\u001b[0m\u001b[0;34m,\u001b[0m \u001b[0mretain_graph\u001b[0m\u001b[0;34m,\u001b[0m \u001b[0mcreate_graph\u001b[0m\u001b[0;34m,\u001b[0m \u001b[0minputs\u001b[0m\u001b[0;34m=\u001b[0m\u001b[0minputs\u001b[0m\u001b[0;34m)\u001b[0m\u001b[0;34m\u001b[0m\u001b[0;34m\u001b[0m\u001b[0m\n\u001b[0m\u001b[1;32m    256\u001b[0m \u001b[0;34m\u001b[0m\u001b[0m\n\u001b[1;32m    257\u001b[0m     \u001b[0;32mdef\u001b[0m \u001b[0mregister_hook\u001b[0m\u001b[0;34m(\u001b[0m\u001b[0mself\u001b[0m\u001b[0;34m,\u001b[0m \u001b[0mhook\u001b[0m\u001b[0;34m)\u001b[0m\u001b[0;34m:\u001b[0m\u001b[0;34m\u001b[0m\u001b[0;34m\u001b[0m\u001b[0m\n",
            "\u001b[0;32m/usr/local/lib/python3.7/dist-packages/torch/autograd/__init__.py\u001b[0m in \u001b[0;36mbackward\u001b[0;34m(tensors, grad_tensors, retain_graph, create_graph, grad_variables, inputs)\u001b[0m\n\u001b[1;32m    147\u001b[0m     Variable._execution_engine.run_backward(\n\u001b[1;32m    148\u001b[0m         \u001b[0mtensors\u001b[0m\u001b[0;34m,\u001b[0m \u001b[0mgrad_tensors_\u001b[0m\u001b[0;34m,\u001b[0m \u001b[0mretain_graph\u001b[0m\u001b[0;34m,\u001b[0m \u001b[0mcreate_graph\u001b[0m\u001b[0;34m,\u001b[0m \u001b[0minputs\u001b[0m\u001b[0;34m,\u001b[0m\u001b[0;34m\u001b[0m\u001b[0;34m\u001b[0m\u001b[0m\n\u001b[0;32m--> 149\u001b[0;31m         allow_unreachable=True, accumulate_grad=True)  # allow_unreachable flag\n\u001b[0m\u001b[1;32m    150\u001b[0m \u001b[0;34m\u001b[0m\u001b[0m\n\u001b[1;32m    151\u001b[0m \u001b[0;34m\u001b[0m\u001b[0m\n",
            "\u001b[0;31mKeyboardInterrupt\u001b[0m: "
          ]
        }
      ]
    },
    {
      "cell_type": "code",
      "metadata": {
        "id": "Pg85BJjU5GdX"
      },
      "source": [
        "train_loader = torch.utils.data.DataLoader(cifar2, batch_size=64,\n",
        "                                           shuffle=True)"
      ],
      "execution_count": 69,
      "outputs": []
    },
    {
      "cell_type": "code",
      "metadata": {
        "id": "iTfdZc7u5GdX",
        "outputId": "6c6c8fe8-5755-4a73-9d47-170e81c095b2",
        "colab": {
          "base_uri": "https://localhost:8080/"
        }
      },
      "source": [
        "import torch\n",
        "import torch.nn as nn\n",
        "import torch.optim as optim\n",
        "\n",
        "train_loader = torch.utils.data.DataLoader(cifar2, batch_size=64,\n",
        "                                           shuffle=True)\n",
        "\n",
        "model = nn.Sequential(\n",
        "            nn.Linear(3072, 128),\n",
        "            nn.Tanh(),\n",
        "            nn.Linear(128, 2),\n",
        "            nn.LogSoftmax(dim=1))\n",
        "\n",
        "learning_rate = 1e-2\n",
        "\n",
        "optimizer = optim.SGD(model.parameters(), lr=learning_rate)\n",
        "\n",
        "loss_fn = nn.NLLLoss()\n",
        "\n",
        "n_epochs = 100\n",
        "\n",
        "for epoch in range(n_epochs):\n",
        "    for imgs, labels in train_loader:\n",
        "        outputs = model(imgs.view(imgs.shape[0], -1))\n",
        "        loss = loss_fn(outputs, labels)\n",
        "\n",
        "        optimizer.zero_grad()\n",
        "        loss.backward()\n",
        "        optimizer.step()\n",
        "\n",
        "    print(\"Epoch: %d, Loss: %f\" % (epoch, float(loss)))"
      ],
      "execution_count": 70,
      "outputs": [
        {
          "output_type": "stream",
          "text": [
            "Epoch: 0, Loss: 0.304630\n",
            "Epoch: 1, Loss: 0.379212\n",
            "Epoch: 2, Loss: 0.278911\n",
            "Epoch: 3, Loss: 0.342303\n",
            "Epoch: 4, Loss: 0.692132\n",
            "Epoch: 5, Loss: 0.401301\n",
            "Epoch: 6, Loss: 0.559801\n",
            "Epoch: 7, Loss: 1.145437\n",
            "Epoch: 8, Loss: 0.336053\n",
            "Epoch: 9, Loss: 0.396320\n",
            "Epoch: 10, Loss: 0.230480\n",
            "Epoch: 11, Loss: 0.328398\n",
            "Epoch: 12, Loss: 0.241683\n",
            "Epoch: 13, Loss: 0.323952\n",
            "Epoch: 14, Loss: 0.241883\n",
            "Epoch: 15, Loss: 0.359749\n",
            "Epoch: 16, Loss: 0.367992\n",
            "Epoch: 17, Loss: 0.190471\n",
            "Epoch: 18, Loss: 0.339295\n",
            "Epoch: 19, Loss: 0.342957\n",
            "Epoch: 20, Loss: 0.113829\n",
            "Epoch: 21, Loss: 0.496458\n",
            "Epoch: 22, Loss: 0.403445\n",
            "Epoch: 23, Loss: 0.122832\n",
            "Epoch: 24, Loss: 0.121683\n",
            "Epoch: 25, Loss: 0.105253\n",
            "Epoch: 26, Loss: 0.266581\n",
            "Epoch: 27, Loss: 0.169447\n",
            "Epoch: 28, Loss: 0.354466\n",
            "Epoch: 29, Loss: 0.120999\n",
            "Epoch: 30, Loss: 0.088212\n",
            "Epoch: 31, Loss: 0.194877\n",
            "Epoch: 32, Loss: 0.110527\n",
            "Epoch: 33, Loss: 0.161499\n",
            "Epoch: 34, Loss: 0.276330\n",
            "Epoch: 35, Loss: 0.244609\n",
            "Epoch: 36, Loss: 0.073222\n",
            "Epoch: 37, Loss: 0.312940\n",
            "Epoch: 38, Loss: 0.064578\n",
            "Epoch: 39, Loss: 0.207076\n",
            "Epoch: 40, Loss: 0.056375\n",
            "Epoch: 41, Loss: 0.108770\n",
            "Epoch: 42, Loss: 0.108611\n",
            "Epoch: 43, Loss: 0.019464\n",
            "Epoch: 44, Loss: 0.072216\n",
            "Epoch: 45, Loss: 0.170739\n",
            "Epoch: 46, Loss: 0.094604\n",
            "Epoch: 47, Loss: 0.115787\n",
            "Epoch: 48, Loss: 0.047561\n",
            "Epoch: 49, Loss: 0.406846\n",
            "Epoch: 50, Loss: 0.139384\n",
            "Epoch: 51, Loss: 0.042683\n",
            "Epoch: 52, Loss: 0.019157\n",
            "Epoch: 53, Loss: 0.153836\n",
            "Epoch: 54, Loss: 0.044151\n",
            "Epoch: 55, Loss: 0.027305\n",
            "Epoch: 56, Loss: 0.081842\n",
            "Epoch: 57, Loss: 0.025994\n",
            "Epoch: 58, Loss: 0.113924\n",
            "Epoch: 59, Loss: 0.150517\n",
            "Epoch: 60, Loss: 0.059503\n",
            "Epoch: 61, Loss: 0.110728\n",
            "Epoch: 62, Loss: 0.032418\n",
            "Epoch: 63, Loss: 0.144919\n",
            "Epoch: 64, Loss: 0.061929\n",
            "Epoch: 65, Loss: 0.039923\n",
            "Epoch: 66, Loss: 0.191833\n",
            "Epoch: 67, Loss: 0.034102\n",
            "Epoch: 68, Loss: 0.105532\n",
            "Epoch: 69, Loss: 0.015662\n",
            "Epoch: 70, Loss: 0.035081\n",
            "Epoch: 71, Loss: 0.015283\n",
            "Epoch: 72, Loss: 0.022317\n",
            "Epoch: 73, Loss: 0.064373\n",
            "Epoch: 74, Loss: 0.037317\n",
            "Epoch: 75, Loss: 0.022842\n",
            "Epoch: 76, Loss: 0.035415\n",
            "Epoch: 77, Loss: 0.033996\n",
            "Epoch: 78, Loss: 0.042888\n",
            "Epoch: 79, Loss: 0.026721\n",
            "Epoch: 80, Loss: 0.023587\n",
            "Epoch: 81, Loss: 0.039182\n",
            "Epoch: 82, Loss: 0.043252\n",
            "Epoch: 83, Loss: 0.069069\n",
            "Epoch: 84, Loss: 0.011588\n",
            "Epoch: 85, Loss: 0.021319\n",
            "Epoch: 86, Loss: 0.019096\n",
            "Epoch: 87, Loss: 0.027932\n",
            "Epoch: 88, Loss: 0.012444\n",
            "Epoch: 89, Loss: 0.021710\n",
            "Epoch: 90, Loss: 0.016823\n",
            "Epoch: 91, Loss: 0.081931\n",
            "Epoch: 92, Loss: 0.029528\n",
            "Epoch: 93, Loss: 0.021018\n",
            "Epoch: 94, Loss: 0.017966\n",
            "Epoch: 95, Loss: 0.028032\n",
            "Epoch: 96, Loss: 0.015069\n",
            "Epoch: 97, Loss: 0.027394\n",
            "Epoch: 98, Loss: 0.013773\n",
            "Epoch: 99, Loss: 0.017859\n"
          ],
          "name": "stdout"
        }
      ]
    },
    {
      "cell_type": "code",
      "metadata": {
        "id": "RT-OCrH35GdX",
        "outputId": "c207f44c-c757-44a0-b8fc-10b4038c0a68",
        "colab": {
          "base_uri": "https://localhost:8080/"
        }
      },
      "source": [
        "import torch\n",
        "import torch.nn as nn\n",
        "import torch.optim as optim\n",
        "\n",
        "train_loader = torch.utils.data.DataLoader(cifar2, batch_size=64,\n",
        "                                           shuffle=True)\n",
        "\n",
        "model = nn.Sequential(\n",
        "            nn.Linear(3072, 512),\n",
        "            nn.Tanh(),\n",
        "            nn.Linear(512, 2),\n",
        "            nn.LogSoftmax(dim=1))\n",
        "\n",
        "learning_rate = 1e-2\n",
        "\n",
        "optimizer = optim.SGD(model.parameters(), lr=learning_rate)\n",
        "\n",
        "loss_fn = nn.NLLLoss()\n",
        "\n",
        "n_epochs = 100\n",
        "\n",
        "for epoch in range(n_epochs):\n",
        "    for imgs, labels in train_loader:\n",
        "        outputs = model(imgs.view(imgs.shape[0], -1))\n",
        "        loss = loss_fn(outputs, labels)\n",
        "\n",
        "        optimizer.zero_grad()\n",
        "        loss.backward()\n",
        "        optimizer.step()\n",
        "\n",
        "    print(\"Epoch: %d, Loss: %f\" % (epoch, float(loss)))"
      ],
      "execution_count": 71,
      "outputs": [
        {
          "output_type": "stream",
          "text": [
            "Epoch: 0, Loss: 0.323365\n",
            "Epoch: 1, Loss: 0.569606\n",
            "Epoch: 2, Loss: 0.309744\n",
            "Epoch: 3, Loss: 0.684859\n",
            "Epoch: 4, Loss: 0.403737\n",
            "Epoch: 5, Loss: 0.428984\n",
            "Epoch: 6, Loss: 0.420047\n",
            "Epoch: 7, Loss: 0.195260\n",
            "Epoch: 8, Loss: 0.275211\n",
            "Epoch: 9, Loss: 0.379513\n",
            "Epoch: 10, Loss: 0.386814\n",
            "Epoch: 11, Loss: 0.254065\n",
            "Epoch: 12, Loss: 0.571213\n",
            "Epoch: 13, Loss: 0.227990\n",
            "Epoch: 14, Loss: 0.267510\n",
            "Epoch: 15, Loss: 0.270774\n",
            "Epoch: 16, Loss: 0.358379\n",
            "Epoch: 17, Loss: 0.164817\n",
            "Epoch: 18, Loss: 0.290902\n",
            "Epoch: 19, Loss: 0.352458\n",
            "Epoch: 20, Loss: 0.393801\n",
            "Epoch: 21, Loss: 0.198644\n",
            "Epoch: 22, Loss: 0.282564\n",
            "Epoch: 23, Loss: 0.294372\n",
            "Epoch: 24, Loss: 0.175899\n",
            "Epoch: 25, Loss: 0.972303\n",
            "Epoch: 26, Loss: 0.607013\n",
            "Epoch: 27, Loss: 0.318232\n",
            "Epoch: 28, Loss: 0.360907\n",
            "Epoch: 29, Loss: 0.218643\n",
            "Epoch: 30, Loss: 0.213160\n",
            "Epoch: 31, Loss: 0.278136\n",
            "Epoch: 32, Loss: 0.083347\n",
            "Epoch: 33, Loss: 0.139568\n",
            "Epoch: 34, Loss: 0.210517\n",
            "Epoch: 35, Loss: 0.269539\n",
            "Epoch: 36, Loss: 0.054896\n",
            "Epoch: 37, Loss: 0.248001\n",
            "Epoch: 38, Loss: 0.035813\n",
            "Epoch: 39, Loss: 0.159107\n",
            "Epoch: 40, Loss: 0.141296\n",
            "Epoch: 41, Loss: 0.126863\n",
            "Epoch: 42, Loss: 0.214662\n",
            "Epoch: 43, Loss: 0.033763\n",
            "Epoch: 44, Loss: 0.085639\n",
            "Epoch: 45, Loss: 0.067060\n",
            "Epoch: 46, Loss: 0.232568\n",
            "Epoch: 47, Loss: 0.122460\n",
            "Epoch: 48, Loss: 0.056127\n",
            "Epoch: 49, Loss: 0.060057\n",
            "Epoch: 50, Loss: 0.181621\n",
            "Epoch: 51, Loss: 0.024991\n",
            "Epoch: 52, Loss: 0.056216\n",
            "Epoch: 53, Loss: 0.026566\n",
            "Epoch: 54, Loss: 0.074106\n",
            "Epoch: 55, Loss: 0.050411\n",
            "Epoch: 56, Loss: 0.063477\n",
            "Epoch: 57, Loss: 0.053653\n",
            "Epoch: 58, Loss: 0.082063\n",
            "Epoch: 59, Loss: 0.048612\n",
            "Epoch: 60, Loss: 0.022765\n",
            "Epoch: 61, Loss: 0.023083\n",
            "Epoch: 62, Loss: 0.059648\n",
            "Epoch: 63, Loss: 0.064992\n",
            "Epoch: 64, Loss: 0.022279\n",
            "Epoch: 65, Loss: 0.058750\n",
            "Epoch: 66, Loss: 0.030635\n",
            "Epoch: 67, Loss: 0.039388\n",
            "Epoch: 68, Loss: 0.058896\n",
            "Epoch: 69, Loss: 0.014839\n",
            "Epoch: 70, Loss: 0.015281\n",
            "Epoch: 71, Loss: 0.047926\n",
            "Epoch: 72, Loss: 0.048007\n",
            "Epoch: 73, Loss: 0.015485\n",
            "Epoch: 74, Loss: 0.137238\n",
            "Epoch: 75, Loss: 0.029128\n",
            "Epoch: 76, Loss: 0.017879\n",
            "Epoch: 77, Loss: 0.010391\n",
            "Epoch: 78, Loss: 0.028747\n",
            "Epoch: 79, Loss: 0.022736\n",
            "Epoch: 80, Loss: 0.009367\n",
            "Epoch: 81, Loss: 0.015995\n",
            "Epoch: 82, Loss: 0.020226\n",
            "Epoch: 83, Loss: 0.019104\n",
            "Epoch: 84, Loss: 0.023493\n",
            "Epoch: 85, Loss: 0.015027\n",
            "Epoch: 86, Loss: 0.047772\n",
            "Epoch: 87, Loss: 0.005381\n",
            "Epoch: 88, Loss: 0.024038\n",
            "Epoch: 89, Loss: 0.022092\n",
            "Epoch: 90, Loss: 0.027596\n",
            "Epoch: 91, Loss: 0.019436\n",
            "Epoch: 92, Loss: 0.018921\n",
            "Epoch: 93, Loss: 0.085159\n",
            "Epoch: 94, Loss: 0.006887\n",
            "Epoch: 95, Loss: 0.020286\n",
            "Epoch: 96, Loss: 0.012204\n",
            "Epoch: 97, Loss: 0.021571\n",
            "Epoch: 98, Loss: 0.012791\n",
            "Epoch: 99, Loss: 0.057939\n"
          ],
          "name": "stdout"
        }
      ]
    },
    {
      "cell_type": "code",
      "metadata": {
        "id": "cAU_RMVI5GdY",
        "outputId": "a8811239-d9e7-4f68-cb88-9e1409609093",
        "colab": {
          "base_uri": "https://localhost:8080/"
        }
      },
      "source": [
        "train_loader = torch.utils.data.DataLoader(cifar2, batch_size=64,\n",
        "                                           shuffle=False)\n",
        "\n",
        "correct = 0\n",
        "total = 0\n",
        "\n",
        "with torch.no_grad():\n",
        "    for imgs, labels in train_loader:\n",
        "        outputs = model(imgs.view(imgs.shape[0], -1))\n",
        "        _, predicted = torch.max(outputs, dim=1)\n",
        "        total += labels.shape[0]\n",
        "        correct += int((predicted == labels).sum())\n",
        "        \n",
        "print(\"Accuracy: %f\" % (correct / total))"
      ],
      "execution_count": 72,
      "outputs": [
        {
          "output_type": "stream",
          "text": [
            "Accuracy: 0.993900\n"
          ],
          "name": "stdout"
        }
      ]
    },
    {
      "cell_type": "code",
      "metadata": {
        "id": "EimxfiW15GdY",
        "outputId": "5332265d-8e56-45f3-cfdf-5df70e3db042",
        "colab": {
          "base_uri": "https://localhost:8080/"
        }
      },
      "source": [
        "val_loader = torch.utils.data.DataLoader(cifar2_val, batch_size=64,\n",
        "                                         shuffle=False)\n",
        "\n",
        "correct = 0\n",
        "total = 0\n",
        "\n",
        "with torch.no_grad():\n",
        "    for imgs, labels in val_loader:\n",
        "        outputs = model(imgs.view(imgs.shape[0], -1))\n",
        "        _, predicted = torch.max(outputs, dim=1)\n",
        "        total += labels.shape[0]\n",
        "        correct += int((predicted == labels).sum())\n",
        "        \n",
        "print(\"Accuracy: %f\" % (correct / total))"
      ],
      "execution_count": 73,
      "outputs": [
        {
          "output_type": "stream",
          "text": [
            "Accuracy: 0.799000\n"
          ],
          "name": "stdout"
        }
      ]
    },
    {
      "cell_type": "code",
      "metadata": {
        "id": "pZuRym4A5Gdb"
      },
      "source": [
        "model = nn.Sequential(\n",
        "            nn.Linear(3072, 1024),\n",
        "            nn.Tanh(),\n",
        "            nn.Linear(1024, 512),\n",
        "            nn.Tanh(),\n",
        "            nn.Linear(512, 128),\n",
        "            nn.Tanh(),\n",
        "            nn.Linear(128, 2),\n",
        "            nn.LogSoftmax(dim=1))"
      ],
      "execution_count": 74,
      "outputs": []
    },
    {
      "cell_type": "code",
      "metadata": {
        "id": "t5AU8IYH5Gdc"
      },
      "source": [
        "model = nn.Sequential(\n",
        "            nn.Linear(3072, 1024),\n",
        "            nn.Tanh(),\n",
        "            nn.Linear(1024, 512),\n",
        "            nn.Tanh(),\n",
        "            nn.Linear(512, 128),\n",
        "            nn.Tanh(),\n",
        "            nn.Linear(128, 2))\n",
        "\n",
        "loss_fn = nn.CrossEntropyLoss()"
      ],
      "execution_count": 75,
      "outputs": []
    },
    {
      "cell_type": "code",
      "metadata": {
        "id": "NVqRWQpL5Gdc",
        "outputId": "a54bc34c-d5f4-45db-d004-c78b8d6da2db",
        "colab": {
          "base_uri": "https://localhost:8080/"
        }
      },
      "source": [
        "import torch\n",
        "import torch.nn as nn\n",
        "import torch.optim as optim\n",
        "\n",
        "train_loader = torch.utils.data.DataLoader(cifar2, batch_size=64,\n",
        "                                           shuffle=True)\n",
        "\n",
        "model = nn.Sequential(\n",
        "            nn.Linear(3072, 1024),\n",
        "            nn.Tanh(),\n",
        "            nn.Linear(1024, 512),\n",
        "            nn.Tanh(),\n",
        "            nn.Linear(512, 128),\n",
        "            nn.Tanh(),\n",
        "            nn.Linear(128, 2))\n",
        "\n",
        "learning_rate = 1e-2\n",
        "\n",
        "optimizer = optim.SGD(model.parameters(), lr=learning_rate)\n",
        "\n",
        "loss_fn = nn.CrossEntropyLoss()\n",
        "\n",
        "n_epochs = 100\n",
        "\n",
        "for epoch in range(n_epochs):\n",
        "    for imgs, labels in train_loader:\n",
        "        outputs = model(imgs.view(imgs.shape[0], -1))\n",
        "        loss = loss_fn(outputs, labels)\n",
        "\n",
        "        optimizer.zero_grad()\n",
        "        loss.backward()\n",
        "        optimizer.step()\n",
        "\n",
        "    print(\"Epoch: %d, Loss: %f\" % (epoch, float(loss)))"
      ],
      "execution_count": 76,
      "outputs": [
        {
          "output_type": "stream",
          "text": [
            "Epoch: 0, Loss: 0.606541\n",
            "Epoch: 1, Loss: 0.296298\n",
            "Epoch: 2, Loss: 0.548450\n",
            "Epoch: 3, Loss: 0.352057\n",
            "Epoch: 4, Loss: 0.513814\n",
            "Epoch: 5, Loss: 0.298070\n",
            "Epoch: 6, Loss: 0.310008\n",
            "Epoch: 7, Loss: 0.279517\n",
            "Epoch: 8, Loss: 0.450429\n",
            "Epoch: 9, Loss: 0.493464\n",
            "Epoch: 10, Loss: 0.158903\n",
            "Epoch: 11, Loss: 0.205689\n",
            "Epoch: 12, Loss: 0.675885\n",
            "Epoch: 13, Loss: 0.528560\n",
            "Epoch: 14, Loss: 0.303480\n",
            "Epoch: 15, Loss: 0.406258\n",
            "Epoch: 16, Loss: 0.460087\n",
            "Epoch: 17, Loss: 0.242948\n",
            "Epoch: 18, Loss: 0.323392\n",
            "Epoch: 19, Loss: 0.189300\n",
            "Epoch: 20, Loss: 0.118173\n",
            "Epoch: 21, Loss: 0.550635\n",
            "Epoch: 22, Loss: 0.247187\n",
            "Epoch: 23, Loss: 0.239558\n",
            "Epoch: 24, Loss: 0.076905\n",
            "Epoch: 25, Loss: 0.213021\n",
            "Epoch: 26, Loss: 0.459854\n",
            "Epoch: 27, Loss: 0.914460\n",
            "Epoch: 28, Loss: 0.076791\n",
            "Epoch: 29, Loss: 0.384681\n",
            "Epoch: 30, Loss: 0.198810\n",
            "Epoch: 31, Loss: 0.074461\n",
            "Epoch: 32, Loss: 0.191667\n",
            "Epoch: 33, Loss: 0.243564\n",
            "Epoch: 34, Loss: 0.118793\n",
            "Epoch: 35, Loss: 0.171756\n",
            "Epoch: 36, Loss: 0.102273\n",
            "Epoch: 37, Loss: 0.185547\n",
            "Epoch: 38, Loss: 0.186208\n",
            "Epoch: 39, Loss: 0.202368\n",
            "Epoch: 40, Loss: 0.164652\n",
            "Epoch: 41, Loss: 0.249421\n",
            "Epoch: 42, Loss: 0.194172\n",
            "Epoch: 43, Loss: 0.133948\n",
            "Epoch: 44, Loss: 0.088285\n",
            "Epoch: 45, Loss: 0.006428\n",
            "Epoch: 46, Loss: 0.055190\n",
            "Epoch: 47, Loss: 0.083731\n",
            "Epoch: 48, Loss: 0.022866\n",
            "Epoch: 49, Loss: 0.061363\n",
            "Epoch: 50, Loss: 0.008953\n",
            "Epoch: 51, Loss: 0.044496\n",
            "Epoch: 52, Loss: 0.037447\n",
            "Epoch: 53, Loss: 0.449801\n",
            "Epoch: 54, Loss: 0.029510\n",
            "Epoch: 55, Loss: 0.012005\n",
            "Epoch: 56, Loss: 0.057964\n",
            "Epoch: 57, Loss: 0.011983\n",
            "Epoch: 58, Loss: 0.020684\n",
            "Epoch: 59, Loss: 0.008463\n",
            "Epoch: 60, Loss: 0.049595\n",
            "Epoch: 61, Loss: 0.023163\n",
            "Epoch: 62, Loss: 0.001825\n",
            "Epoch: 63, Loss: 0.004845\n",
            "Epoch: 64, Loss: 0.040328\n",
            "Epoch: 65, Loss: 0.006515\n",
            "Epoch: 66, Loss: 0.076388\n",
            "Epoch: 67, Loss: 0.012999\n",
            "Epoch: 68, Loss: 0.001946\n",
            "Epoch: 69, Loss: 0.054894\n",
            "Epoch: 70, Loss: 0.156729\n",
            "Epoch: 71, Loss: 0.001479\n",
            "Epoch: 72, Loss: 0.004082\n",
            "Epoch: 73, Loss: 0.046711\n",
            "Epoch: 74, Loss: 0.010758\n",
            "Epoch: 75, Loss: 0.001454\n",
            "Epoch: 76, Loss: 0.008447\n",
            "Epoch: 77, Loss: 0.003787\n",
            "Epoch: 78, Loss: 0.000832\n",
            "Epoch: 79, Loss: 0.003467\n",
            "Epoch: 80, Loss: 0.015071\n",
            "Epoch: 81, Loss: 0.001061\n",
            "Epoch: 82, Loss: 0.003486\n",
            "Epoch: 83, Loss: 0.010312\n",
            "Epoch: 84, Loss: 0.002406\n",
            "Epoch: 85, Loss: 0.003762\n",
            "Epoch: 86, Loss: 0.001312\n",
            "Epoch: 87, Loss: 0.015719\n",
            "Epoch: 88, Loss: 0.000651\n",
            "Epoch: 89, Loss: 0.002083\n",
            "Epoch: 90, Loss: 0.000663\n",
            "Epoch: 91, Loss: 0.002557\n",
            "Epoch: 92, Loss: 0.000639\n",
            "Epoch: 93, Loss: 0.001100\n",
            "Epoch: 94, Loss: 0.001426\n",
            "Epoch: 95, Loss: 0.000191\n",
            "Epoch: 96, Loss: 0.001180\n",
            "Epoch: 97, Loss: 0.001253\n",
            "Epoch: 98, Loss: 0.003923\n",
            "Epoch: 99, Loss: 0.001700\n"
          ],
          "name": "stdout"
        }
      ]
    },
    {
      "cell_type": "code",
      "metadata": {
        "id": "RC50tQdO5Gdc",
        "outputId": "6bf9b1ec-9171-467a-b616-4ff8ab0c353b",
        "colab": {
          "base_uri": "https://localhost:8080/"
        }
      },
      "source": [
        "train_loader = torch.utils.data.DataLoader(cifar2, batch_size=64,\n",
        "                                           shuffle=False)\n",
        "\n",
        "correct = 0\n",
        "total = 0\n",
        "\n",
        "with torch.no_grad():\n",
        "    for imgs, labels in train_loader:\n",
        "        outputs = model(imgs.view(imgs.shape[0], -1))\n",
        "        _, predicted = torch.max(outputs, dim=1)\n",
        "        total += labels.shape[0]\n",
        "        correct += int((predicted == labels).sum())\n",
        "        \n",
        "print(\"Accuracy: %f\" % (correct / total))"
      ],
      "execution_count": 77,
      "outputs": [
        {
          "output_type": "stream",
          "text": [
            "Accuracy: 1.000000\n"
          ],
          "name": "stdout"
        }
      ]
    },
    {
      "cell_type": "code",
      "metadata": {
        "id": "ABeQlTYS5Gdd",
        "outputId": "53e2b187-df29-454e-bf0c-3872bfe78d59",
        "colab": {
          "base_uri": "https://localhost:8080/"
        }
      },
      "source": [
        "val_loader = torch.utils.data.DataLoader(cifar2_val, batch_size=64,\n",
        "                                         shuffle=False)\n",
        "\n",
        "correct = 0\n",
        "total = 0\n",
        "\n",
        "with torch.no_grad():\n",
        "    for imgs, labels in val_loader:\n",
        "        outputs = model(imgs.view(imgs.shape[0], -1))\n",
        "        _, predicted = torch.max(outputs, dim=1)\n",
        "        total += labels.shape[0]\n",
        "        correct += int((predicted == labels).sum())\n",
        "        \n",
        "print(\"Accuracy: %f\" % (correct / total))"
      ],
      "execution_count": 78,
      "outputs": [
        {
          "output_type": "stream",
          "text": [
            "Accuracy: 0.804000\n"
          ],
          "name": "stdout"
        }
      ]
    },
    {
      "cell_type": "code",
      "metadata": {
        "id": "fvbCu49Q5Gdd",
        "outputId": "9a77f590-a52f-4620-c7d2-4a822d549cb5",
        "colab": {
          "base_uri": "https://localhost:8080/"
        }
      },
      "source": [
        "sum([p.numel() for p in model.parameters()])"
      ],
      "execution_count": 79,
      "outputs": [
        {
          "output_type": "execute_result",
          "data": {
            "text/plain": [
              "3737474"
            ]
          },
          "metadata": {
            "tags": []
          },
          "execution_count": 79
        }
      ]
    },
    {
      "cell_type": "code",
      "metadata": {
        "id": "G7H2MKqV5Gdd",
        "outputId": "34bd2348-c6f1-4a4f-f8c9-b4a0d072f560",
        "colab": {
          "base_uri": "https://localhost:8080/"
        }
      },
      "source": [
        "sum([p.numel() for p in model.parameters() if p.requires_grad == True])"
      ],
      "execution_count": 80,
      "outputs": [
        {
          "output_type": "execute_result",
          "data": {
            "text/plain": [
              "3737474"
            ]
          },
          "metadata": {
            "tags": []
          },
          "execution_count": 80
        }
      ]
    },
    {
      "cell_type": "code",
      "metadata": {
        "id": "P7XIEmnf5Gdd",
        "outputId": "30ad2b09-4d55-48b5-a027-502575fb6f4a",
        "colab": {
          "base_uri": "https://localhost:8080/"
        }
      },
      "source": [
        "first_model = nn.Sequential(\n",
        "                nn.Linear(3072, 512),\n",
        "                nn.Tanh(),\n",
        "                nn.Linear(512, 2),\n",
        "                nn.LogSoftmax(dim=1))\n",
        "\n",
        "sum([p.numel() for p in first_model.parameters()])"
      ],
      "execution_count": 81,
      "outputs": [
        {
          "output_type": "execute_result",
          "data": {
            "text/plain": [
              "1574402"
            ]
          },
          "metadata": {
            "tags": []
          },
          "execution_count": 81
        }
      ]
    },
    {
      "cell_type": "code",
      "metadata": {
        "id": "VRhJEqVW5Gde",
        "outputId": "6bb99469-7ffa-46aa-e63b-af1bd9d5175f",
        "colab": {
          "base_uri": "https://localhost:8080/"
        }
      },
      "source": [
        "sum([p.numel() for p in nn.Linear(3072, 512).parameters()])"
      ],
      "execution_count": 82,
      "outputs": [
        {
          "output_type": "execute_result",
          "data": {
            "text/plain": [
              "1573376"
            ]
          },
          "metadata": {
            "tags": []
          },
          "execution_count": 82
        }
      ]
    },
    {
      "cell_type": "code",
      "metadata": {
        "id": "xKO4JgRO5Gde",
        "outputId": "8a60dce7-7804-45af-86cf-b34e06d6496a",
        "colab": {
          "base_uri": "https://localhost:8080/"
        }
      },
      "source": [
        "sum([p.numel() for p in nn.Linear(3072, 1024).parameters()])"
      ],
      "execution_count": 83,
      "outputs": [
        {
          "output_type": "execute_result",
          "data": {
            "text/plain": [
              "3146752"
            ]
          },
          "metadata": {
            "tags": []
          },
          "execution_count": 83
        }
      ]
    },
    {
      "cell_type": "code",
      "metadata": {
        "id": "iJyZ7IDX5Gde",
        "outputId": "075b9535-33b2-4aa8-ab18-2aeb777261ca",
        "colab": {
          "base_uri": "https://localhost:8080/"
        }
      },
      "source": [
        "linear = nn.Linear(3072, 1024)\n",
        "\n",
        "linear.weight.shape, linear.bias.shape"
      ],
      "execution_count": 84,
      "outputs": [
        {
          "output_type": "execute_result",
          "data": {
            "text/plain": [
              "(torch.Size([1024, 3072]), torch.Size([1024]))"
            ]
          },
          "metadata": {
            "tags": []
          },
          "execution_count": 84
        }
      ]
    },
    {
      "cell_type": "code",
      "metadata": {
        "id": "h5r4Qtd-5Gde"
      },
      "source": [
        "conv = nn.Conv2d(3, 16, kernel_size=3)"
      ],
      "execution_count": null,
      "outputs": []
    },
    {
      "cell_type": "code",
      "metadata": {
        "id": "GD9Nvx7D5Gde"
      },
      "source": [
        "conv.weight.shape"
      ],
      "execution_count": null,
      "outputs": []
    },
    {
      "cell_type": "code",
      "metadata": {
        "id": "6h2yjV5D5Gdf"
      },
      "source": [
        "conv.bias.shape"
      ],
      "execution_count": null,
      "outputs": []
    },
    {
      "cell_type": "code",
      "metadata": {
        "id": "LhW9tQFm5Gdf"
      },
      "source": [
        "img, _ = cifar2[0]\n",
        "\n",
        "output = conv(img.unsqueeze(0))"
      ],
      "execution_count": null,
      "outputs": []
    },
    {
      "cell_type": "code",
      "metadata": {
        "id": "--W5AkGK5Gdf"
      },
      "source": [
        "img.unsqueeze(0).shape, output.shape"
      ],
      "execution_count": null,
      "outputs": []
    },
    {
      "cell_type": "code",
      "metadata": {
        "id": "3_0Jh6wx5Gdf"
      },
      "source": [
        "plt.imshow(img.permute(1, 2, 0), cmap='gray')\n",
        "plt.show()"
      ],
      "execution_count": null,
      "outputs": []
    },
    {
      "cell_type": "code",
      "metadata": {
        "id": "6NrgGKN45Gdf"
      },
      "source": [
        "plt.imshow(output[0, 0].detach(), cmap='gray')\n",
        "plt.show()"
      ],
      "execution_count": null,
      "outputs": []
    },
    {
      "cell_type": "code",
      "metadata": {
        "id": "GWqOWA325Gdg"
      },
      "source": [
        "output.shape"
      ],
      "execution_count": null,
      "outputs": []
    },
    {
      "cell_type": "code",
      "metadata": {
        "id": "Wzj9gS6K5Gdg"
      },
      "source": [
        "conv = nn.Conv2d(3, 1, kernel_size=3, padding=1)"
      ],
      "execution_count": null,
      "outputs": []
    },
    {
      "cell_type": "code",
      "metadata": {
        "id": "QBA1myKa5Gdg"
      },
      "source": [
        "output = conv(img.unsqueeze(0))\n",
        "\n",
        "output.shape"
      ],
      "execution_count": null,
      "outputs": []
    },
    {
      "cell_type": "code",
      "metadata": {
        "id": "a3KS_6UY5Gdg"
      },
      "source": [
        "with torch.no_grad():\n",
        "    conv.bias.zero_()"
      ],
      "execution_count": null,
      "outputs": []
    },
    {
      "cell_type": "code",
      "metadata": {
        "id": "8tP2VE3w5Gdg"
      },
      "source": [
        "with torch.no_grad():\n",
        "    conv.weight.fill_(1.0 / 9.0)"
      ],
      "execution_count": null,
      "outputs": []
    },
    {
      "cell_type": "code",
      "metadata": {
        "id": "hH22iJqR5Gdh"
      },
      "source": [
        "output = conv(img.unsqueeze(0))\n",
        "plt.imshow(output[0, 0].detach(), cmap='gray')\n",
        "plt.show()"
      ],
      "execution_count": null,
      "outputs": []
    },
    {
      "cell_type": "code",
      "metadata": {
        "id": "5p2F94_x5Gdh"
      },
      "source": [
        "conv = nn.Conv2d(3, 1, kernel_size=3, padding=1)\n",
        "\n",
        "with torch.no_grad():\n",
        "    conv.weight[:] = torch.tensor([[-1.0, 0.0, 1.0],\n",
        "                                   [-1.0, 0.0, 1.0],\n",
        "                                   [-1.0, 0.0, 1.0]])\n",
        "    conv.bias.zero_()"
      ],
      "execution_count": null,
      "outputs": []
    },
    {
      "cell_type": "code",
      "metadata": {
        "id": "9SvA3WGd5Gdh"
      },
      "source": [
        "output = conv(img.unsqueeze(0))\n",
        "plt.imshow(output[0, 0].detach(), cmap='gray')\n",
        "plt.show()"
      ],
      "execution_count": null,
      "outputs": []
    },
    {
      "cell_type": "code",
      "metadata": {
        "id": "f8LVwe8m5Gdh"
      },
      "source": [
        "pool = nn.MaxPool2d(2)"
      ],
      "execution_count": null,
      "outputs": []
    },
    {
      "cell_type": "code",
      "metadata": {
        "id": "m-nLgtya5Gdh"
      },
      "source": [
        "output = pool(img.unsqueeze(0))\n",
        "\n",
        "output.shape"
      ],
      "execution_count": null,
      "outputs": []
    },
    {
      "cell_type": "code",
      "metadata": {
        "id": "-F2DIgQ15Gdh"
      },
      "source": [
        "model = nn.Sequential(\n",
        "            nn.Conv2d(3, 16, kernel_size=3, padding=1),\n",
        "            nn.Tanh(),\n",
        "            nn.MaxPool2d(2),\n",
        "            nn.Conv2d(16, 8, kernel_size=3, padding=1),\n",
        "            nn.Tanh(),\n",
        "            nn.MaxPool2d(2),\n",
        "            ...)"
      ],
      "execution_count": null,
      "outputs": []
    },
    {
      "cell_type": "code",
      "metadata": {
        "id": "l38k5ZdM5Gdi"
      },
      "source": [
        "model = nn.Sequential(\n",
        "            nn.Conv2d(3, 16, kernel_size=3, padding=1),\n",
        "            nn.Tanh(),\n",
        "            nn.MaxPool2d(2),\n",
        "            nn.Conv2d(16, 8, kernel_size=3, padding=1),\n",
        "            nn.Tanh(),\n",
        "            nn.MaxPool2d(2),\n",
        "            # WARNING: something missing here\n",
        "            nn.Linear(512, 32),\n",
        "            nn.Tanh(),\n",
        "            nn.Linear(32, 2))"
      ],
      "execution_count": null,
      "outputs": []
    },
    {
      "cell_type": "code",
      "metadata": {
        "id": "AexMoyXk5Gdi"
      },
      "source": [
        "sum([p.numel() for p in model.parameters()])"
      ],
      "execution_count": null,
      "outputs": []
    },
    {
      "cell_type": "code",
      "metadata": {
        "id": "ppynk2Dh5Gdi"
      },
      "source": [
        "model(img.unsqueeze(0))"
      ],
      "execution_count": null,
      "outputs": []
    },
    {
      "cell_type": "code",
      "metadata": {
        "id": "dG4WLVVT5Gdi"
      },
      "source": [
        "class Net(nn.Module):\n",
        "    def __init__(self):\n",
        "        super(Net, self).__init__()\n",
        "        self.conv1 = nn.Conv2d(3, 16, kernel_size=3, padding=1)\n",
        "        self.act1 = nn.Tanh()\n",
        "        self.pool1 = nn.MaxPool2d(2)\n",
        "        self.conv2 = nn.Conv2d(16, 8, kernel_size=3, padding=1)\n",
        "        self.act2 = nn.Tanh()\n",
        "        self.pool2 = nn.MaxPool2d(2)\n",
        "        self.fc1 = nn.Linear(8 * 8 * 8, 32)\n",
        "        self.act4 = nn.Tanh()\n",
        "        self.fc2 = nn.Linear(32, 2)\n",
        "\n",
        "    def forward(self, x):\n",
        "        out = self.pool1(self.act1(self.conv1(x)))\n",
        "        out = self.pool2(self.act2(self.conv2(out)))\n",
        "        out = out.view(-1, 8 * 8 * 8)\n",
        "        out = self.act4(self.fc1(out))\n",
        "        out = self.fc2(out)\n",
        "        return out"
      ],
      "execution_count": null,
      "outputs": []
    },
    {
      "cell_type": "code",
      "metadata": {
        "id": "6lglVHTG5Gdi"
      },
      "source": [
        "model = Net()\n",
        "\n",
        "sum([p.numel() for p in model.parameters()])"
      ],
      "execution_count": null,
      "outputs": []
    },
    {
      "cell_type": "code",
      "metadata": {
        "id": "iy29dG-g5Gdi"
      },
      "source": [
        "import torch.nn.functional as F\n",
        "\n",
        "class Net(nn.Module):\n",
        "    def __init__(self):\n",
        "        super(Net, self).__init__()\n",
        "        self.conv1 = nn.Conv2d(3, 16, kernel_size=3, padding=1)\n",
        "        self.conv2 = nn.Conv2d(16, 8, kernel_size=3, padding=1)\n",
        "        self.fc1 = nn.Linear(8 * 8 * 8, 32)\n",
        "        self.fc2 = nn.Linear(32, 2)\n",
        "        \n",
        "    def forward(self, x):\n",
        "        out = F.max_pool2d(torch.tanh(self.conv1(x)), 2)\n",
        "        out = F.max_pool2d(torch.tanh(self.conv2(out)), 2)\n",
        "        out = out.view(-1, 8 * 8 * 8)\n",
        "        out = torch.tanh(self.fc1(out))\n",
        "        out = self.fc2(out)\n",
        "        return out"
      ],
      "execution_count": null,
      "outputs": []
    },
    {
      "cell_type": "code",
      "metadata": {
        "id": "rvoeulim5Gdj"
      },
      "source": [
        "model = Net()\n",
        "model(img.unsqueeze(0))"
      ],
      "execution_count": null,
      "outputs": []
    },
    {
      "cell_type": "code",
      "metadata": {
        "id": "A_ZgNY0U5Gdj"
      },
      "source": [
        "import torch\n",
        "import torch.nn as nn\n",
        "import torch.nn.functional as F\n",
        "\n",
        "train_loader = torch.utils.data.DataLoader(cifar2, batch_size=64,\n",
        "                                           shuffle=True)\n",
        "\n",
        "class Net(nn.Module):\n",
        "    def __init__(self):\n",
        "        super(Net, self).__init__()\n",
        "        self.conv1 = nn.Conv2d(3, 16, kernel_size=3, padding=1)\n",
        "        self.conv2 = nn.Conv2d(16, 8, kernel_size=3, padding=1)\n",
        "        self.fc1 = nn.Linear(8 * 8 * 8, 32)\n",
        "        self.fc2 = nn.Linear(32, 2)\n",
        "        \n",
        "    def forward(self, x):\n",
        "        out = F.max_pool2d(torch.relu(self.conv1(x)), 2)\n",
        "        out = F.max_pool2d(torch.relu(self.conv2(out)), 2)\n",
        "        out = out.view(-1, 8 * 8 * 8)\n",
        "        out = torch.tanh(self.fc1(out))\n",
        "        out = self.fc2(out)\n",
        "        return out\n",
        "    \n",
        "model = Net()\n",
        "\n",
        "learning_rate = 1e-2\n",
        "\n",
        "optimizer = optim.SGD(model.parameters(), lr=learning_rate)\n",
        "\n",
        "loss_fn = nn.CrossEntropyLoss()\n",
        "\n",
        "n_epochs = 100\n",
        "\n",
        "for epoch in range(n_epochs):\n",
        "    for imgs, labels in train_loader:\n",
        "        outputs = model(imgs)\n",
        "        loss = loss_fn(outputs, labels)\n",
        "                \n",
        "        optimizer.zero_grad()\n",
        "        loss.backward()\n",
        "        optimizer.step()\n",
        "\n",
        "    print(\"Epoch: %d, Loss: %f\" % (epoch, float(loss)))"
      ],
      "execution_count": null,
      "outputs": []
    },
    {
      "cell_type": "code",
      "metadata": {
        "id": "El7RZ1d_5Gdj"
      },
      "source": [
        "train_loader = torch.utils.data.DataLoader(cifar2, batch_size=64,\n",
        "                                           shuffle=False)\n",
        "\n",
        "correct = 0\n",
        "total = 0\n",
        "\n",
        "with torch.no_grad():\n",
        "    for imgs, labels in train_loader:\n",
        "        outputs = model(imgs)\n",
        "        _, predicted = torch.max(outputs, dim=1)\n",
        "        total += labels.shape[0]\n",
        "        correct += int((predicted == labels).sum())\n",
        "        \n",
        "print(\"Accuracy: %f\" % (correct / total))"
      ],
      "execution_count": null,
      "outputs": []
    },
    {
      "cell_type": "code",
      "metadata": {
        "id": "cwfQQoks5Gdj"
      },
      "source": [
        "val_loader = torch.utils.data.DataLoader(cifar2_val, batch_size=64,\n",
        "                                         shuffle=False)\n",
        "\n",
        "correct = 0\n",
        "total = 0\n",
        "\n",
        "with torch.no_grad():\n",
        "    for imgs, labels in val_loader:\n",
        "        outputs = model(imgs)\n",
        "        _, predicted = torch.max(outputs, dim=1)\n",
        "        total += labels.shape[0]\n",
        "        correct += int((predicted == labels).sum())\n",
        "        \n",
        "print(\"Accuracy: %f\" % (correct / total))"
      ],
      "execution_count": null,
      "outputs": []
    },
    {
      "cell_type": "code",
      "metadata": {
        "id": "RB5kniV55Gdk"
      },
      "source": [
        "import torch\n",
        "import torch.nn as nn\n",
        "import torch.nn.functional as F\n",
        "\n",
        "class Net(nn.Module):\n",
        "    def __init__(self):\n",
        "        super(Net, self).__init__()\n",
        "        self.conv1 = nn.Conv2d(3, 16, kernel_size=3, padding=1)\n",
        "        self.conv2 = nn.Conv2d(16, 8, kernel_size=3, padding=1)\n",
        "        self.fc1 = nn.Linear(8 * 8 * 8, 32)\n",
        "        self.fc2 = nn.Linear(32, 2)\n",
        "        \n",
        "    def forward(self, x):\n",
        "        out = F.max_pool2d(torch.relu(self.conv1(x)), 2)\n",
        "        out = F.max_pool2d(torch.relu(self.conv2(out)), 2)\n",
        "        out = out.view(-1, 8 * 8 * 8)\n",
        "        out = torch.tanh(self.fc1(out))\n",
        "        out = self.fc2(out)\n",
        "        return out\n",
        "    \n",
        "model = Net()\n",
        "sum([p.numel() for p in model.parameters()])"
      ],
      "execution_count": null,
      "outputs": []
    },
    {
      "cell_type": "code",
      "metadata": {
        "id": "OZv1VInT5Gdk"
      },
      "source": [
        "model = nn.Sequential(\n",
        "            nn.Conv2d(3, 16, kernel_size=3, padding=1),\n",
        "            nn.Tanh(),\n",
        "            nn.MaxPool2d(2),\n",
        "            nn.Conv2d(16, 8, kernel_size=3, padding=1),\n",
        "            nn.Tanh(),\n",
        "            nn.MaxPool2d(2),\n",
        "            nn.Linear(8*8*8, 32),\n",
        "            nn.Tanh(),\n",
        "            nn.Linear(32, 2))\n",
        "\n",
        "model(img.unsqueeze(0))"
      ],
      "execution_count": null,
      "outputs": []
    }
  ]
}