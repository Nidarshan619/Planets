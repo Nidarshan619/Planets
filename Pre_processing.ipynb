{
  "nbformat": 4,
  "nbformat_minor": 0,
  "metadata": {
    "kernelspec": {
      "display_name": "Python 3",
      "language": "python",
      "name": "python3"
    },
    "language_info": {
      "codemirror_mode": {
        "name": "ipython",
        "version": 3
      },
      "file_extension": ".py",
      "mimetype": "text/x-python",
      "name": "python",
      "nbconvert_exporter": "python",
      "pygments_lexer": "ipython3",
      "version": "3.8.5"
    },
    "colab": {
      "name": "Pre-processing.ipynb",
      "provenance": [],
      "include_colab_link": true
    }
  },
  "cells": [
    {
      "cell_type": "markdown",
      "metadata": {
        "id": "view-in-github",
        "colab_type": "text"
      },
      "source": [
        "<a href=\"https://colab.research.google.com/github/Nidarshan619/Planets/blob/master/Pre_processing.ipynb\" target=\"_parent\"><img src=\"https://colab.research.google.com/assets/colab-badge.svg\" alt=\"Open In Colab\"/></a>"
      ]
    },
    {
      "cell_type": "code",
      "metadata": {
        "colab": {
          "base_uri": "https://localhost:8080/"
        },
        "id": "F2VSY08v7jPX",
        "outputId": "89a0c25f-43cc-4f3a-ab3a-14ba22d74faa"
      },
      "source": [
        "!pip install tslearn"
      ],
      "execution_count": 34,
      "outputs": [
        {
          "output_type": "stream",
          "text": [
            "Requirement already satisfied: tslearn in /usr/local/lib/python3.7/dist-packages (0.5.1.0)\n",
            "Requirement already satisfied: numpy in /usr/local/lib/python3.7/dist-packages (from tslearn) (1.19.5)\n",
            "Requirement already satisfied: scipy in /usr/local/lib/python3.7/dist-packages (from tslearn) (1.4.1)\n",
            "Requirement already satisfied: numba in /usr/local/lib/python3.7/dist-packages (from tslearn) (0.51.2)\n",
            "Requirement already satisfied: joblib in /usr/local/lib/python3.7/dist-packages (from tslearn) (1.0.1)\n",
            "Requirement already satisfied: Cython in /usr/local/lib/python3.7/dist-packages (from tslearn) (0.29.23)\n",
            "Requirement already satisfied: scikit-learn in /usr/local/lib/python3.7/dist-packages (from tslearn) (0.22.2.post1)\n",
            "Requirement already satisfied: llvmlite<0.35,>=0.34.0.dev0 in /usr/local/lib/python3.7/dist-packages (from numba->tslearn) (0.34.0)\n",
            "Requirement already satisfied: setuptools in /usr/local/lib/python3.7/dist-packages (from numba->tslearn) (57.2.0)\n"
          ],
          "name": "stdout"
        }
      ]
    },
    {
      "cell_type": "code",
      "metadata": {
        "id": "oJYZn10i7aEy"
      },
      "source": [
        "import pandas as pd\n",
        "import numpy as np\n",
        "import scipy.io\n",
        "import matplotlib.pyplot as plt\n",
        "import seaborn as sns\n",
        "from sklearn.svm import SVC\n",
        "from sklearn.model_selection import train_test_split\n",
        "from sklearn import metrics\n",
        "from sklearn.metrics import confusion_matrix\n",
        "from sklearn import linear_model\n",
        "from sklearn.model_selection import GridSearchCV\n",
        "from sklearn.model_selection import cross_val_score\n",
        "from sklearn.model_selection import KFold\n",
        "from sklearn.model_selection import train_test_split\n",
        "from sklearn.preprocessing import StandardScaler\n",
        "from sklearn.decomposition import PCA\n",
        "from sklearn.decomposition import IncrementalPCA\n",
        "from sklearn.linear_model import LogisticRegression\n",
        "from tslearn.utils import to_time_series\n",
        "from tslearn.utils import to_time_series_dataset\n",
        "from tslearn.clustering import TimeSeriesKMeans\n",
        "from tslearn.barycenters import dtw_barycenter_averaging\n",
        "from tslearn.metrics import dtw, dtw_path\n",
        "from tslearn.clustering import silhouette_score"
      ],
      "execution_count": 35,
      "outputs": []
    },
    {
      "cell_type": "code",
      "metadata": {
        "colab": {
          "base_uri": "https://localhost:8080/"
        },
        "id": "lLBDHz3cKOMP",
        "outputId": "0f646613-feac-4e0f-a9a1-0197ad29664e"
      },
      "source": [
        "from google.colab import drive\n",
        "drive.mount('/content/gdrive')"
      ],
      "execution_count": 25,
      "outputs": [
        {
          "output_type": "stream",
          "text": [
            "Drive already mounted at /content/gdrive; to attempt to forcibly remount, call drive.mount(\"/content/gdrive\", force_remount=True).\n"
          ],
          "name": "stdout"
        }
      ]
    },
    {
      "cell_type": "code",
      "metadata": {
        "id": "pH0NnPftKcQl"
      },
      "source": [
        "import pandas as pd\n",
        "df = pd.read_csv('/content/gdrive/MyDrive/Shreya_PMU/Shreya_R1.csv')"
      ],
      "execution_count": 36,
      "outputs": []
    },
    {
      "cell_type": "code",
      "metadata": {
        "colab": {
          "base_uri": "https://localhost:8080/",
          "height": 215
        },
        "id": "9xrR1XML7aE6",
        "outputId": "fbeeaba5-f5c6-44e9-e3b5-0be2c3941553"
      },
      "source": [
        "#df = pd.read_csv(\"Shreya_R1.csv\")\n",
        "df.head()"
      ],
      "execution_count": 37,
      "outputs": [
        {
          "output_type": "execute_result",
          "data": {
            "text/html": [
              "<div>\n",
              "<style scoped>\n",
              "    .dataframe tbody tr th:only-of-type {\n",
              "        vertical-align: middle;\n",
              "    }\n",
              "\n",
              "    .dataframe tbody tr th {\n",
              "        vertical-align: top;\n",
              "    }\n",
              "\n",
              "    .dataframe thead th {\n",
              "        text-align: right;\n",
              "    }\n",
              "</style>\n",
              "<table border=\"1\" class=\"dataframe\">\n",
              "  <thead>\n",
              "    <tr style=\"text-align: right;\">\n",
              "      <th></th>\n",
              "      <th>Va_mag</th>\n",
              "      <th>Vb_mag</th>\n",
              "      <th>Vc_mag</th>\n",
              "      <th>Ia_mag</th>\n",
              "      <th>Ib_mag</th>\n",
              "      <th>Ic_mag</th>\n",
              "      <th>V1_mag</th>\n",
              "      <th>I1_mag</th>\n",
              "      <th>V2_mag</th>\n",
              "      <th>V0_mag</th>\n",
              "      <th>I0_mag</th>\n",
              "      <th>I2_mag</th>\n",
              "      <th>Va_ang</th>\n",
              "      <th>Vb_ang</th>\n",
              "      <th>Vc_ang</th>\n",
              "      <th>Ia_ang</th>\n",
              "      <th>Ib_ang</th>\n",
              "      <th>Ic_ang</th>\n",
              "      <th>V1_ang</th>\n",
              "      <th>I1_ang</th>\n",
              "      <th>V2_ang</th>\n",
              "      <th>V0_ang</th>\n",
              "      <th>I0_ang</th>\n",
              "      <th>I2_ang</th>\n",
              "      <th>Freq</th>\n",
              "      <th>ROCOF</th>\n",
              "      <th>Events</th>\n",
              "    </tr>\n",
              "  </thead>\n",
              "  <tbody>\n",
              "    <tr>\n",
              "      <th>0</th>\n",
              "      <td>10646.684570</td>\n",
              "      <td>10646.748047</td>\n",
              "      <td>10646.700195</td>\n",
              "      <td>491.170166</td>\n",
              "      <td>491.169495</td>\n",
              "      <td>491.176086</td>\n",
              "      <td>10646.710938</td>\n",
              "      <td>491.171936</td>\n",
              "      <td>0.038324</td>\n",
              "      <td>0.000560</td>\n",
              "      <td>0.000224</td>\n",
              "      <td>0.004219</td>\n",
              "      <td>-121.217033</td>\n",
              "      <td>118.782875</td>\n",
              "      <td>-1.217377</td>\n",
              "      <td>49.385487</td>\n",
              "      <td>-70.613655</td>\n",
              "      <td>169.385956</td>\n",
              "      <td>-121.217186</td>\n",
              "      <td>49.385933</td>\n",
              "      <td>12.307068</td>\n",
              "      <td>-72.562317</td>\n",
              "      <td>47.214073</td>\n",
              "      <td>-66.098442</td>\n",
              "      <td>59.998001</td>\n",
              "      <td>0.0</td>\n",
              "      <td>0</td>\n",
              "    </tr>\n",
              "    <tr>\n",
              "      <th>1</th>\n",
              "      <td>10646.711914</td>\n",
              "      <td>10646.721680</td>\n",
              "      <td>10646.696289</td>\n",
              "      <td>491.171570</td>\n",
              "      <td>491.168671</td>\n",
              "      <td>491.175568</td>\n",
              "      <td>10646.709961</td>\n",
              "      <td>491.171936</td>\n",
              "      <td>0.015268</td>\n",
              "      <td>0.000735</td>\n",
              "      <td>0.000235</td>\n",
              "      <td>0.004016</td>\n",
              "      <td>-121.227867</td>\n",
              "      <td>118.771988</td>\n",
              "      <td>-1.227984</td>\n",
              "      <td>49.374691</td>\n",
              "      <td>-70.624550</td>\n",
              "      <td>169.375351</td>\n",
              "      <td>-121.227936</td>\n",
              "      <td>49.375156</td>\n",
              "      <td>-38.580269</td>\n",
              "      <td>-63.057339</td>\n",
              "      <td>43.299839</td>\n",
              "      <td>-47.018227</td>\n",
              "      <td>59.998001</td>\n",
              "      <td>0.0</td>\n",
              "      <td>0</td>\n",
              "    </tr>\n",
              "    <tr>\n",
              "      <th>2</th>\n",
              "      <td>10646.691406</td>\n",
              "      <td>10646.720703</td>\n",
              "      <td>10646.729492</td>\n",
              "      <td>491.170837</td>\n",
              "      <td>491.168182</td>\n",
              "      <td>491.177185</td>\n",
              "      <td>10646.713867</td>\n",
              "      <td>491.172058</td>\n",
              "      <td>0.023471</td>\n",
              "      <td>0.000662</td>\n",
              "      <td>0.000224</td>\n",
              "      <td>0.005358</td>\n",
              "      <td>-121.238754</td>\n",
              "      <td>118.761391</td>\n",
              "      <td>-1.238818</td>\n",
              "      <td>49.363773</td>\n",
              "      <td>-70.635170</td>\n",
              "      <td>169.364548</td>\n",
              "      <td>-121.238724</td>\n",
              "      <td>49.364391</td>\n",
              "      <td>70.967033</td>\n",
              "      <td>-64.459114</td>\n",
              "      <td>43.753063</td>\n",
              "      <td>-54.615639</td>\n",
              "      <td>59.998001</td>\n",
              "      <td>0.0</td>\n",
              "      <td>0</td>\n",
              "    </tr>\n",
              "    <tr>\n",
              "      <th>3</th>\n",
              "      <td>10646.684570</td>\n",
              "      <td>10646.747070</td>\n",
              "      <td>10646.700195</td>\n",
              "      <td>491.170135</td>\n",
              "      <td>491.169464</td>\n",
              "      <td>491.176025</td>\n",
              "      <td>10646.710938</td>\n",
              "      <td>491.171906</td>\n",
              "      <td>0.037998</td>\n",
              "      <td>0.000697</td>\n",
              "      <td>0.000234</td>\n",
              "      <td>0.004217</td>\n",
              "      <td>-121.249352</td>\n",
              "      <td>118.750557</td>\n",
              "      <td>-1.249694</td>\n",
              "      <td>49.353172</td>\n",
              "      <td>-70.645973</td>\n",
              "      <td>169.353638</td>\n",
              "      <td>-121.249489</td>\n",
              "      <td>49.353615</td>\n",
              "      <td>12.857522</td>\n",
              "      <td>-71.361115</td>\n",
              "      <td>45.862991</td>\n",
              "      <td>-66.316330</td>\n",
              "      <td>59.998001</td>\n",
              "      <td>0.0</td>\n",
              "      <td>0</td>\n",
              "    </tr>\n",
              "    <tr>\n",
              "      <th>4</th>\n",
              "      <td>10646.709961</td>\n",
              "      <td>10646.719727</td>\n",
              "      <td>10646.694336</td>\n",
              "      <td>491.171478</td>\n",
              "      <td>491.168579</td>\n",
              "      <td>491.175507</td>\n",
              "      <td>10646.708008</td>\n",
              "      <td>491.171844</td>\n",
              "      <td>0.014520</td>\n",
              "      <td>0.000588</td>\n",
              "      <td>0.000219</td>\n",
              "      <td>0.004026</td>\n",
              "      <td>-121.260185</td>\n",
              "      <td>118.739685</td>\n",
              "      <td>-1.260298</td>\n",
              "      <td>49.342381</td>\n",
              "      <td>-70.656876</td>\n",
              "      <td>169.343018</td>\n",
              "      <td>-121.260269</td>\n",
              "      <td>49.342842</td>\n",
              "      <td>-38.431492</td>\n",
              "      <td>-51.785282</td>\n",
              "      <td>42.666668</td>\n",
              "      <td>-47.099350</td>\n",
              "      <td>59.998001</td>\n",
              "      <td>0.0</td>\n",
              "      <td>0</td>\n",
              "    </tr>\n",
              "  </tbody>\n",
              "</table>\n",
              "</div>"
            ],
            "text/plain": [
              "         Va_mag        Vb_mag        Vc_mag  ...       Freq  ROCOF  Events\n",
              "0  10646.684570  10646.748047  10646.700195  ...  59.998001    0.0       0\n",
              "1  10646.711914  10646.721680  10646.696289  ...  59.998001    0.0       0\n",
              "2  10646.691406  10646.720703  10646.729492  ...  59.998001    0.0       0\n",
              "3  10646.684570  10646.747070  10646.700195  ...  59.998001    0.0       0\n",
              "4  10646.709961  10646.719727  10646.694336  ...  59.998001    0.0       0\n",
              "\n",
              "[5 rows x 27 columns]"
            ]
          },
          "metadata": {
            "tags": []
          },
          "execution_count": 37
        }
      ]
    },
    {
      "cell_type": "code",
      "metadata": {
        "colab": {
          "base_uri": "https://localhost:8080/"
        },
        "id": "JWUItSFb7aE7",
        "outputId": "c8aec2c4-c2c6-4296-a845-9c5cc4a5bef6"
      },
      "source": [
        "df.info()"
      ],
      "execution_count": 38,
      "outputs": [
        {
          "output_type": "stream",
          "text": [
            "<class 'pandas.core.frame.DataFrame'>\n",
            "RangeIndex: 2184852 entries, 0 to 2184851\n",
            "Data columns (total 27 columns):\n",
            " #   Column  Dtype  \n",
            "---  ------  -----  \n",
            " 0   Va_mag  float64\n",
            " 1   Vb_mag  float64\n",
            " 2   Vc_mag  float64\n",
            " 3   Ia_mag  float64\n",
            " 4   Ib_mag  float64\n",
            " 5   Ic_mag  float64\n",
            " 6   V1_mag  float64\n",
            " 7   I1_mag  float64\n",
            " 8   V2_mag  float64\n",
            " 9   V0_mag  float64\n",
            " 10  I0_mag  float64\n",
            " 11  I2_mag  float64\n",
            " 12  Va_ang  float64\n",
            " 13  Vb_ang  float64\n",
            " 14  Vc_ang  float64\n",
            " 15  Ia_ang  float64\n",
            " 16  Ib_ang  float64\n",
            " 17  Ic_ang  float64\n",
            " 18  V1_ang  float64\n",
            " 19  I1_ang  float64\n",
            " 20  V2_ang  float64\n",
            " 21  V0_ang  float64\n",
            " 22  I0_ang  float64\n",
            " 23  I2_ang  float64\n",
            " 24  Freq    float64\n",
            " 25  ROCOF   float64\n",
            " 26  Events  int64  \n",
            "dtypes: float64(26), int64(1)\n",
            "memory usage: 450.1 MB\n"
          ],
          "name": "stdout"
        }
      ]
    },
    {
      "cell_type": "code",
      "metadata": {
        "colab": {
          "base_uri": "https://localhost:8080/"
        },
        "id": "t5PW0d5L7aE8",
        "outputId": "8f0a533e-dab4-446b-d610-d7a2ade8d7d1"
      },
      "source": [
        "df[\"I1_ang\"] = df.I1_ang-df.V1_ang\n",
        "df[\"V2_ang\"] = df.V2_ang-df.V1_ang\n",
        "df[\"V0_ang\"] = df.V0_ang-df.V1_ang\n",
        "df[\"I0_ang\"] = df.I0_ang-df.V1_ang\n",
        "df[\"I2_ang\"] = df.I2_ang-df.V1_ang\n",
        "df[\"V_m\"] = (df[\"Va_mag\"]+df[\"Vb_mag\"]+df[\"Vc_mag\"])/3\n",
        "df = df.drop([\"V1_ang\",\"Va_ang\",\"Vb_ang\",\"Vc_ang\",\"Ia_ang\",\"Ib_ang\",\"Ic_ang\"],axis=1)\n",
        "df.shape"
      ],
      "execution_count": 39,
      "outputs": [
        {
          "output_type": "execute_result",
          "data": {
            "text/plain": [
              "(2184852, 21)"
            ]
          },
          "metadata": {
            "tags": []
          },
          "execution_count": 39
        }
      ]
    },
    {
      "cell_type": "code",
      "metadata": {
        "id": "7aNgj41V7aE8"
      },
      "source": [
        "#To generate a book-keeping scheme. \n",
        "def diffe(df):\n",
        "    df[\"diff\"] = df.Events.diff()\n",
        "    df.loc[pd.isnull(df[\"diff\"]),\"diff\"] = 0   # This is just to remove nan generated from the previous step\n",
        "    df[\"Indexing\"] = np.array(range(1,df.shape[0]+1))  # Just created a false indexing starting from 1 and running till the end\n",
        "    indices = list(df.loc[df[\"diff\"]!=0,\"Indexing\"])  #create a list [] containing location of diffs that are not equal to 0 \n",
        "    indices.insert(0,1) # included 1 at the fist change\n",
        "    indices.insert(len(indices),df.shape[0])\n",
        "    return indices,df\n",
        "\n",
        "# THis function is returning a list of indices where a new event is starting "
      ],
      "execution_count": 40,
      "outputs": []
    },
    {
      "cell_type": "code",
      "metadata": {
        "colab": {
          "base_uri": "https://localhost:8080/"
        },
        "id": "C-R-tJPO7aE-",
        "outputId": "7bde0905-10c8-48d4-d094-272f8564f200"
      },
      "source": [
        "df = df.loc[df.Events!=0]\n",
        "df_lr = df\n",
        "#df_lr = df.loc[ (df.Events == 8) |(df.Events == 1)]\n",
        "indices,df_lr = diffe(df_lr)  #Function call\n",
        "df_lr.shape\n",
        "#df_va = df_lr[['Va_mag','Events','diff','Indexing']]\n"
      ],
      "execution_count": 22,
      "outputs": [
        {
          "output_type": "execute_result",
          "data": {
            "text/plain": [
              "(173463, 23)"
            ]
          },
          "metadata": {
            "tags": []
          },
          "execution_count": 22
        }
      ]
    },
    {
      "cell_type": "markdown",
      "metadata": {
        "id": "tsOYzd--f2pA"
      },
      "source": [
        "Decoding the first enigma box"
      ]
    },
    {
      "cell_type": "code",
      "metadata": {
        "id": "vhzvCbkqf7PC"
      },
      "source": [
        "df[\"diff\"] = df['Events'].diff()\n",
        "df[\"diff\"].unique()\n",
        "df.loc[pd.isnull(df[\"diff\"]),\"diff\"] = 0 # loc has rows \n",
        "df[\"Indexing\"] = np.array(range(1,df.shape[0]+1))\n",
        "type(df[\"Indexing\"])\n",
        "df[\"Indexing\"]  \n",
        "df['diff'].value_counts() \n",
        "indices = list(df.loc[df['diff']!=0,\"Indexing\"])   # Place where there is a new calss updated\n",
        "indices.insert(0,1)\n",
        "indices[0:5]\n",
        "len(indices)\n",
        "indices[3410]\n",
        "indices.insert(len(indices),df.shape[0])\n",
        "indices[0:10]\n",
        "df.loc[1175:1179,'Events']"
      ],
      "execution_count": null,
      "outputs": []
    },
    {
      "cell_type": "code",
      "metadata": {
        "colab": {
          "base_uri": "https://localhost:8080/"
        },
        "id": "oLTInqiPW5qF",
        "outputId": "3e71c392-d2d8-4476-a702-455d1e3ffc07"
      },
      "source": [
        "df['Events'].loc[90:93]\n",
        "indices[0:10]\n"
      ],
      "execution_count": 33,
      "outputs": [
        {
          "output_type": "execute_result",
          "data": {
            "text/plain": [
              "[1, 92, 182, 273, 363, 453, 812, 902, 992, 1112]"
            ]
          },
          "metadata": {
            "tags": []
          },
          "execution_count": 33
        }
      ]
    },
    {
      "cell_type": "code",
      "metadata": {
        "id": "PjpRsoQh7aE9"
      },
      "source": [
        "lower = [0,0,0,0,0,0,0,0,0,0]\n",
        "upper = [88,88,88,88,88,88,88,88,88,88]\n",
        "def transposed(df, df_va,indices):\n",
        "    data_df = pd.DataFrame()\n",
        "    temp_event = []\n",
        "    for i in range(1,len(indices)):\n",
        "        temp = df.loc[(df.Indexing>=indices[i-1])&(df.Indexing<indices[i])]  # And opertation True * True = Ture \n",
        "        t_events = temp.Events.unique()\n",
        "        temp = temp.drop([\"Events\",\"diff\",\"Indexing\"],1).iloc[lower[int(temp.Events.unique())]:upper[int(temp.Events.unique())],:]  # Too much complicated for simple things\n",
        "        list_temp = []\n",
        "        temp_event.extend(t_events)\n",
        "        for col in temp.columns:\n",
        "            list_temp.extend(list(temp[col]))\n",
        "        data_df[str(i)] = list_temp\n",
        "    data_df = pd.DataFrame(np.transpose(np.array(data_df)))\n",
        "    data_df[\"Event_Label\"] = np.array(temp_event)\n",
        "    return data_df"
      ],
      "execution_count": 15,
      "outputs": []
    },
    {
      "cell_type": "code",
      "metadata": {
        "colab": {
          "base_uri": "https://localhost:8080/"
        },
        "id": "sXDm5rBQ7aE_",
        "outputId": "2b877793-511e-489a-ce84-71ac760c1b82"
      },
      "source": [
        "data_df = transposed(df_lr, df_va,indices) # Function called\n",
        "data_df\n",
        "\n",
        "data_df['Event_Label'].unique()"
      ],
      "execution_count": 18,
      "outputs": [
        {
          "output_type": "execute_result",
          "data": {
            "text/plain": [
              "array([9, 5, 2, 1, 7, 4, 3, 8, 6])"
            ]
          },
          "metadata": {
            "tags": []
          },
          "execution_count": 18
        }
      ]
    },
    {
      "cell_type": "code",
      "metadata": {
        "colab": {
          "base_uri": "https://localhost:8080/"
        },
        "id": "RCd4KLC5G1_h",
        "outputId": "66f9f44e-ca21-40ba-bd09-167d3f68d1ea"
      },
      "source": [
        "data_df.shape"
      ],
      "execution_count": 19,
      "outputs": [
        {
          "output_type": "execute_result",
          "data": {
            "text/plain": [
              "(1550, 1761)"
            ]
          },
          "metadata": {
            "tags": []
          },
          "execution_count": 19
        }
      ]
    },
    {
      "cell_type": "code",
      "metadata": {
        "id": "aWdzLxXTG16w"
      },
      "source": [
        ""
      ],
      "execution_count": null,
      "outputs": []
    }
  ]
}