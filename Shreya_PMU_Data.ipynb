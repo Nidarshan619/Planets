{
  "nbformat": 4,
  "nbformat_minor": 0,
  "metadata": {
    "colab": {
      "name": "Shreya_PMU_Data.ipynb",
      "provenance": [],
      "collapsed_sections": [
        "4zBmtAXc4gL9",
        "rljMlAKU4kCP"
      ],
      "authorship_tag": "ABX9TyPEe5qLqjpB5Jae2QJ7E2vM",
      "include_colab_link": true
    },
    "kernelspec": {
      "name": "python3",
      "display_name": "Python 3"
    },
    "language_info": {
      "name": "python"
    }
  },
  "cells": [
    {
      "cell_type": "markdown",
      "metadata": {
        "id": "view-in-github",
        "colab_type": "text"
      },
      "source": [
        "<a href=\"https://colab.research.google.com/github/Nidarshan619/Planets/blob/master/Shreya_PMU_Data.ipynb\" target=\"_parent\"><img src=\"https://colab.research.google.com/assets/colab-badge.svg\" alt=\"Open In Colab\"/></a>"
      ]
    },
    {
      "cell_type": "code",
      "metadata": {
        "colab": {
          "base_uri": "https://localhost:8080/"
        },
        "id": "k5H9MbzBWHcL",
        "outputId": "42c79444-2c33-49bd-8d99-1542b12fc339"
      },
      "source": [
        "from google.colab import drive\n",
        "drive.mount('/content/gdrive')"
      ],
      "execution_count": 11,
      "outputs": [
        {
          "output_type": "stream",
          "text": [
            "Drive already mounted at /content/gdrive; to attempt to forcibly remount, call drive.mount(\"/content/gdrive\", force_remount=True).\n"
          ],
          "name": "stdout"
        }
      ]
    },
    {
      "cell_type": "markdown",
      "metadata": {
        "id": "4zBmtAXc4gL9"
      },
      "source": [
        "# R0\n"
      ]
    },
    {
      "cell_type": "code",
      "metadata": {
        "id": "N3ae-MsIWaBB"
      },
      "source": [
        "import pandas as pd\n",
        "pmu_path = \"/content/gdrive/MyDrive/Shreya_PMU/Shreya_PMU.csv\"\n",
        "pmu_df = pd.read_csv('/content/gdrive/MyDrive/Shreya_PMU/Shreya_PMU.csv')\n"
      ],
      "execution_count": null,
      "outputs": []
    },
    {
      "cell_type": "code",
      "metadata": {
        "colab": {
          "base_uri": "https://localhost:8080/"
        },
        "id": "KRekrMGHM7EB",
        "outputId": "e2197f8d-b178-4a7b-dd38-a30c282dbcc0"
      },
      "source": [
        "pmu_df.columns"
      ],
      "execution_count": null,
      "outputs": [
        {
          "output_type": "execute_result",
          "data": {
            "text/plain": [
              "Index(['Va_mag', 'Vb_mag', 'Vc_mag', 'Ia_mag', 'Ib_mag', 'Ic_mag', 'V1_mag',\n",
              "       'I1_mag', 'V2_mag', 'V0_mag', 'I0_mag', 'I2_mag', 'Va_ang', 'Vb_ang',\n",
              "       'Vc_ang', 'Ia_ang', 'Ib_ang', 'Ic_ang', 'V1_ang', 'I1_ang', 'V2_ang',\n",
              "       'V0_ang', 'I0_ang', 'I2_ang', 'Freq', 'ROCOF', 'Events'],\n",
              "      dtype='object')"
            ]
          },
          "metadata": {
            "tags": []
          },
          "execution_count": 5
        }
      ]
    },
    {
      "cell_type": "code",
      "metadata": {
        "id": "lrY7GFKEPd7c"
      },
      "source": [
        "#To generate a book-keeping scheme. \n",
        "def diffe(df):\n",
        "    df[\"diff\"] = df['Events'].diff()     # Raise a non-zero number where the new event is seen\n",
        "    df.loc[pd.isnull(df[\"diff\"]),\"diff\"] = 0  # Locate the places where 0 is present\n",
        "    df[\"Indexing\"] = np.array(range(1,df.shape[0]+1)) # Create a new index of the shape as that of dataframe\n",
        "    indices = list(df.loc[df[\"diff\"]!=0,\"Indexing\"]) # create a list [] containing location of diffs that are not equal to 0 \n",
        "    indices.insert(0,1)\n",
        "    indices.insert(len(indices),df.shape[0])\n",
        "    return indices,df"
      ],
      "execution_count": null,
      "outputs": []
    },
    {
      "cell_type": "code",
      "metadata": {
        "colab": {
          "base_uri": "https://localhost:8080/"
        },
        "id": "gFw23Un8XdO4",
        "outputId": "16e51c9f-6cb8-4776-9fa4-036e44866ed1"
      },
      "source": [
        "liss = list(range(5))\n",
        "print(liss)\n",
        "liss.insert(0,7)\n",
        "liss"
      ],
      "execution_count": null,
      "outputs": [
        {
          "output_type": "stream",
          "text": [
            "[0, 1, 2, 3, 4]\n"
          ],
          "name": "stdout"
        },
        {
          "output_type": "execute_result",
          "data": {
            "text/plain": [
              "[7, 0, 1, 2, 3, 4]"
            ]
          },
          "metadata": {
            "tags": []
          },
          "execution_count": 67
        }
      ]
    },
    {
      "cell_type": "code",
      "metadata": {
        "colab": {
          "base_uri": "https://localhost:8080/"
        },
        "id": "5h5SQb9kUkkZ",
        "outputId": "7af3b82f-f316-424a-df8c-60f41e918c4b"
      },
      "source": [
        "pmu_df.shape\n",
        "df.loc"
      ],
      "execution_count": null,
      "outputs": [
        {
          "output_type": "execute_result",
          "data": {
            "text/plain": [
              "(2184852, 27)"
            ]
          },
          "metadata": {
            "tags": []
          },
          "execution_count": 57
        }
      ]
    },
    {
      "cell_type": "code",
      "metadata": {
        "colab": {
          "base_uri": "https://localhost:8080/",
          "height": 350
        },
        "id": "dMFlbyw-OCaC",
        "outputId": "4da6dc0d-ffc2-488c-cce8-367b74e0b6fb"
      },
      "source": [
        "pmu_ev = pmu_df.loc[pmu_df['Events']!=0]  # Events data\n",
        "pmu_nor = pmu_df.loc[pmu_df['Events']==0]  # Normal Data\n",
        "pmu_ev['Events'].unique()                # Check the events data\n",
        "#indices,df_lr = diffe(pmu_ev)             # fuchtion\n",
        "pmu_ev.head()\n",
        "a = pmu_ev['Events'].diff()\n",
        "#df.loc[pd.isnull(df[\"diff\"]),\"diff\"] = 0\n",
        "pd.isnull(a)\n",
        "a.loc()\n",
        "b = np.array(range(1,len(pmu_df)+1))\n",
        "b\n",
        "#indices = list(range(5),\"Indexing\")\n",
        "pmu_df.loc[a!=0]\n"
      ],
      "execution_count": null,
      "outputs": [
        {
          "output_type": "error",
          "ename": "IndexingError",
          "evalue": "ignored",
          "traceback": [
            "\u001b[0;31m---------------------------------------------------------------------------\u001b[0m",
            "\u001b[0;31mIndexingError\u001b[0m                             Traceback (most recent call last)",
            "\u001b[0;32m<ipython-input-65-60209c38c08f>\u001b[0m in \u001b[0;36m<module>\u001b[0;34m()\u001b[0m\n\u001b[1;32m     11\u001b[0m \u001b[0mb\u001b[0m\u001b[0;34m\u001b[0m\u001b[0;34m\u001b[0m\u001b[0m\n\u001b[1;32m     12\u001b[0m \u001b[0;31m#indices = list(range(5),\"Indexing\")\u001b[0m\u001b[0;34m\u001b[0m\u001b[0;34m\u001b[0m\u001b[0;34m\u001b[0m\u001b[0m\n\u001b[0;32m---> 13\u001b[0;31m \u001b[0mpmu_df\u001b[0m\u001b[0;34m.\u001b[0m\u001b[0mloc\u001b[0m\u001b[0;34m[\u001b[0m\u001b[0ma\u001b[0m\u001b[0;34m!=\u001b[0m\u001b[0;36m0\u001b[0m\u001b[0;34m]\u001b[0m\u001b[0;34m\u001b[0m\u001b[0;34m\u001b[0m\u001b[0m\n\u001b[0m",
            "\u001b[0;32m/usr/local/lib/python3.7/dist-packages/pandas/core/indexing.py\u001b[0m in \u001b[0;36m__getitem__\u001b[0;34m(self, key)\u001b[0m\n\u001b[1;32m    877\u001b[0m \u001b[0;34m\u001b[0m\u001b[0m\n\u001b[1;32m    878\u001b[0m             \u001b[0mmaybe_callable\u001b[0m \u001b[0;34m=\u001b[0m \u001b[0mcom\u001b[0m\u001b[0;34m.\u001b[0m\u001b[0mapply_if_callable\u001b[0m\u001b[0;34m(\u001b[0m\u001b[0mkey\u001b[0m\u001b[0;34m,\u001b[0m \u001b[0mself\u001b[0m\u001b[0;34m.\u001b[0m\u001b[0mobj\u001b[0m\u001b[0;34m)\u001b[0m\u001b[0;34m\u001b[0m\u001b[0;34m\u001b[0m\u001b[0m\n\u001b[0;32m--> 879\u001b[0;31m             \u001b[0;32mreturn\u001b[0m \u001b[0mself\u001b[0m\u001b[0;34m.\u001b[0m\u001b[0m_getitem_axis\u001b[0m\u001b[0;34m(\u001b[0m\u001b[0mmaybe_callable\u001b[0m\u001b[0;34m,\u001b[0m \u001b[0maxis\u001b[0m\u001b[0;34m=\u001b[0m\u001b[0maxis\u001b[0m\u001b[0;34m)\u001b[0m\u001b[0;34m\u001b[0m\u001b[0;34m\u001b[0m\u001b[0m\n\u001b[0m\u001b[1;32m    880\u001b[0m \u001b[0;34m\u001b[0m\u001b[0m\n\u001b[1;32m    881\u001b[0m     \u001b[0;32mdef\u001b[0m \u001b[0m_is_scalar_access\u001b[0m\u001b[0;34m(\u001b[0m\u001b[0mself\u001b[0m\u001b[0;34m,\u001b[0m \u001b[0mkey\u001b[0m\u001b[0;34m:\u001b[0m \u001b[0mTuple\u001b[0m\u001b[0;34m)\u001b[0m\u001b[0;34m:\u001b[0m\u001b[0;34m\u001b[0m\u001b[0;34m\u001b[0m\u001b[0m\n",
            "\u001b[0;32m/usr/local/lib/python3.7/dist-packages/pandas/core/indexing.py\u001b[0m in \u001b[0;36m_getitem_axis\u001b[0;34m(self, key, axis)\u001b[0m\n\u001b[1;32m   1088\u001b[0m             \u001b[0;32mreturn\u001b[0m \u001b[0mself\u001b[0m\u001b[0;34m.\u001b[0m\u001b[0m_get_slice_axis\u001b[0m\u001b[0;34m(\u001b[0m\u001b[0mkey\u001b[0m\u001b[0;34m,\u001b[0m \u001b[0maxis\u001b[0m\u001b[0;34m=\u001b[0m\u001b[0maxis\u001b[0m\u001b[0;34m)\u001b[0m\u001b[0;34m\u001b[0m\u001b[0;34m\u001b[0m\u001b[0m\n\u001b[1;32m   1089\u001b[0m         \u001b[0;32melif\u001b[0m \u001b[0mcom\u001b[0m\u001b[0;34m.\u001b[0m\u001b[0mis_bool_indexer\u001b[0m\u001b[0;34m(\u001b[0m\u001b[0mkey\u001b[0m\u001b[0;34m)\u001b[0m\u001b[0;34m:\u001b[0m\u001b[0;34m\u001b[0m\u001b[0;34m\u001b[0m\u001b[0m\n\u001b[0;32m-> 1090\u001b[0;31m             \u001b[0;32mreturn\u001b[0m \u001b[0mself\u001b[0m\u001b[0;34m.\u001b[0m\u001b[0m_getbool_axis\u001b[0m\u001b[0;34m(\u001b[0m\u001b[0mkey\u001b[0m\u001b[0;34m,\u001b[0m \u001b[0maxis\u001b[0m\u001b[0;34m=\u001b[0m\u001b[0maxis\u001b[0m\u001b[0;34m)\u001b[0m\u001b[0;34m\u001b[0m\u001b[0;34m\u001b[0m\u001b[0m\n\u001b[0m\u001b[1;32m   1091\u001b[0m         \u001b[0;32melif\u001b[0m \u001b[0mis_list_like_indexer\u001b[0m\u001b[0;34m(\u001b[0m\u001b[0mkey\u001b[0m\u001b[0;34m)\u001b[0m\u001b[0;34m:\u001b[0m\u001b[0;34m\u001b[0m\u001b[0;34m\u001b[0m\u001b[0m\n\u001b[1;32m   1092\u001b[0m \u001b[0;34m\u001b[0m\u001b[0m\n",
            "\u001b[0;32m/usr/local/lib/python3.7/dist-packages/pandas/core/indexing.py\u001b[0m in \u001b[0;36m_getbool_axis\u001b[0;34m(self, key, axis)\u001b[0m\n\u001b[1;32m    894\u001b[0m         \u001b[0;31m# caller is responsible for ensuring non-None axis\u001b[0m\u001b[0;34m\u001b[0m\u001b[0;34m\u001b[0m\u001b[0;34m\u001b[0m\u001b[0m\n\u001b[1;32m    895\u001b[0m         \u001b[0mlabels\u001b[0m \u001b[0;34m=\u001b[0m \u001b[0mself\u001b[0m\u001b[0;34m.\u001b[0m\u001b[0mobj\u001b[0m\u001b[0;34m.\u001b[0m\u001b[0m_get_axis\u001b[0m\u001b[0;34m(\u001b[0m\u001b[0maxis\u001b[0m\u001b[0;34m)\u001b[0m\u001b[0;34m\u001b[0m\u001b[0;34m\u001b[0m\u001b[0m\n\u001b[0;32m--> 896\u001b[0;31m         \u001b[0mkey\u001b[0m \u001b[0;34m=\u001b[0m \u001b[0mcheck_bool_indexer\u001b[0m\u001b[0;34m(\u001b[0m\u001b[0mlabels\u001b[0m\u001b[0;34m,\u001b[0m \u001b[0mkey\u001b[0m\u001b[0;34m)\u001b[0m\u001b[0;34m\u001b[0m\u001b[0;34m\u001b[0m\u001b[0m\n\u001b[0m\u001b[1;32m    897\u001b[0m         \u001b[0minds\u001b[0m \u001b[0;34m=\u001b[0m \u001b[0mkey\u001b[0m\u001b[0;34m.\u001b[0m\u001b[0mnonzero\u001b[0m\u001b[0;34m(\u001b[0m\u001b[0;34m)\u001b[0m\u001b[0;34m[\u001b[0m\u001b[0;36m0\u001b[0m\u001b[0;34m]\u001b[0m\u001b[0;34m\u001b[0m\u001b[0;34m\u001b[0m\u001b[0m\n\u001b[1;32m    898\u001b[0m         \u001b[0;32mreturn\u001b[0m \u001b[0mself\u001b[0m\u001b[0;34m.\u001b[0m\u001b[0mobj\u001b[0m\u001b[0;34m.\u001b[0m\u001b[0m_take_with_is_copy\u001b[0m\u001b[0;34m(\u001b[0m\u001b[0minds\u001b[0m\u001b[0;34m,\u001b[0m \u001b[0maxis\u001b[0m\u001b[0;34m=\u001b[0m\u001b[0maxis\u001b[0m\u001b[0;34m)\u001b[0m\u001b[0;34m\u001b[0m\u001b[0;34m\u001b[0m\u001b[0m\n",
            "\u001b[0;32m/usr/local/lib/python3.7/dist-packages/pandas/core/indexing.py\u001b[0m in \u001b[0;36mcheck_bool_indexer\u001b[0;34m(index, key)\u001b[0m\n\u001b[1;32m   2181\u001b[0m         \u001b[0;32mif\u001b[0m \u001b[0mmask\u001b[0m\u001b[0;34m.\u001b[0m\u001b[0many\u001b[0m\u001b[0;34m(\u001b[0m\u001b[0;34m)\u001b[0m\u001b[0;34m:\u001b[0m\u001b[0;34m\u001b[0m\u001b[0;34m\u001b[0m\u001b[0m\n\u001b[1;32m   2182\u001b[0m             raise IndexingError(\n\u001b[0;32m-> 2183\u001b[0;31m                 \u001b[0;34m\"Unalignable boolean Series provided as \"\u001b[0m\u001b[0;34m\u001b[0m\u001b[0;34m\u001b[0m\u001b[0m\n\u001b[0m\u001b[1;32m   2184\u001b[0m                 \u001b[0;34m\"indexer (index of the boolean Series and of \"\u001b[0m\u001b[0;34m\u001b[0m\u001b[0;34m\u001b[0m\u001b[0m\n\u001b[1;32m   2185\u001b[0m                 \u001b[0;34m\"the indexed object do not match).\"\u001b[0m\u001b[0;34m\u001b[0m\u001b[0;34m\u001b[0m\u001b[0m\n",
            "\u001b[0;31mIndexingError\u001b[0m: Unalignable boolean Series provided as indexer (index of the boolean Series and of the indexed object do not match)."
          ]
        }
      ]
    },
    {
      "cell_type": "code",
      "metadata": {
        "colab": {
          "base_uri": "https://localhost:8080/"
        },
        "id": "AbPK0gikmreZ",
        "outputId": "d96c1475-f2ad-4782-c7aa-b17012e5e2fd"
      },
      "source": [
        "pmu_df.head(10)\n",
        "import csv\n",
        "Features_list = next(csv.reader(open(pmu_path), delimiter=' '))\n",
        "Features_list"
      ],
      "execution_count": null,
      "outputs": [
        {
          "output_type": "execute_result",
          "data": {
            "text/plain": [
              "['Va_mag,Vb_mag,Vc_mag,Ia_mag,Ib_mag,Ic_mag,V1_mag,I1_mag,V2_mag,V0_mag,I0_mag,I2_mag,Va_ang,Vb_ang,Vc_ang,Ia_ang,Ib_ang,Ic_ang,V1_ang,I1_ang,V2_ang,V0_ang,I0_ang,I2_ang,Freq,ROCOF,Events']"
            ]
          },
          "metadata": {
            "tags": []
          },
          "execution_count": 33
        }
      ]
    },
    {
      "cell_type": "code",
      "metadata": {
        "id": "WSSFp-As3WTg"
      },
      "source": [
        "import numpy as np\n",
        "import torch\n",
        "import matplotlib.pyplot as plt\n",
        "import seaborn as sns"
      ],
      "execution_count": null,
      "outputs": []
    },
    {
      "cell_type": "code",
      "metadata": {
        "id": "6LAnNs3X3j-h"
      },
      "source": [
        "pmu_np = pmu_df.to_numpy()\n",
        "pmu = torch.from_numpy(pmu_np)"
      ],
      "execution_count": null,
      "outputs": []
    },
    {
      "cell_type": "code",
      "metadata": {
        "colab": {
          "base_uri": "https://localhost:8080/",
          "height": 167
        },
        "id": "0DpAKVtM93dY",
        "outputId": "6b0b4e3a-2a39-4520-e6c3-866c10bed866"
      },
      "source": [
        ""
      ],
      "execution_count": null,
      "outputs": [
        {
          "output_type": "error",
          "ename": "NameError",
          "evalue": "ignored",
          "traceback": [
            "\u001b[0;31m---------------------------------------------------------------------------\u001b[0m",
            "\u001b[0;31mNameError\u001b[0m                                 Traceback (most recent call last)",
            "\u001b[0;32m<ipython-input-31-3803ece1bf92>\u001b[0m in \u001b[0;36m<module>\u001b[0;34m()\u001b[0m\n\u001b[0;32m----> 1\u001b[0;31m \u001b[0mPMU_df\u001b[0m\u001b[0;34m[\u001b[0m\u001b[0;34m\"I1_ang\"\u001b[0m\u001b[0;34m]\u001b[0m \u001b[0;34m=\u001b[0m \u001b[0mdf\u001b[0m\u001b[0;34m.\u001b[0m\u001b[0mI1_ang\u001b[0m\u001b[0;34m-\u001b[0m\u001b[0mdf\u001b[0m\u001b[0;34m.\u001b[0m\u001b[0mV1_ang\u001b[0m\u001b[0;34m\u001b[0m\u001b[0;34m\u001b[0m\u001b[0m\n\u001b[0m",
            "\u001b[0;31mNameError\u001b[0m: name 'df' is not defined"
          ]
        }
      ]
    },
    {
      "cell_type": "code",
      "metadata": {
        "id": "i4tajWL2aLCL"
      },
      "source": [
        "healthy =  0\n",
        "class_names = ['Normal','Load_on','Load_off','Gen_trip','Line_trip','Cap_on','Cap_off','3_ph_fault','1LG_Fault','2Ph_G_Fault']"
      ],
      "execution_count": null,
      "outputs": []
    },
    {
      "cell_type": "code",
      "metadata": {
        "colab": {
          "base_uri": "https://localhost:8080/",
          "height": 374
        },
        "id": "_BCMVJxMbVjj",
        "outputId": "d6375e36-8f98-4f9e-cdb1-0569921d0f67"
      },
      "source": [
        "Signals = list(pmu_df.columns)\n",
        "pmu_df['Events'].value_counts()\n",
        "import seaborn as sns\n",
        "bar_plt = sns.countplot(pmu_df['Events'])\n",
        "bar_plt.set_xticklabels(class_names,rotation=30);"
      ],
      "execution_count": null,
      "outputs": [
        {
          "output_type": "stream",
          "text": [
            "/usr/local/lib/python3.7/dist-packages/seaborn/_decorators.py:43: FutureWarning: Pass the following variable as a keyword arg: x. From version 0.12, the only valid positional argument will be `data`, and passing other arguments without an explicit keyword will result in an error or misinterpretation.\n",
            "  FutureWarning\n"
          ],
          "name": "stderr"
        },
        {
          "output_type": "display_data",
          "data": {
            "image/png": "[encoded data removed]",
            "text/plain": [
              "<Figure size 432x288 with 1 Axes>"
            ]
          },
          "metadata": {
            "tags": [],
            "needs_background": "light"
          }
        }
      ]
    },
    {
      "cell_type": "code",
      "metadata": {
        "id": "fh0eFQnudbaO"
      },
      "source": [
        "def plot_time_series_class(data,class_name, ax, n_steps=2 ):\n",
        "  time_series_df = pd.DataFrame(data)\n",
        "\n",
        "  smooth_path = time_series_df.rolling(n_steps).mean()\n",
        "  path_deviation = 2*time_series_df.rolling(n_steps).std()\n",
        "\n",
        "  under_line = (smooth_path - path_deviation)[0] \n",
        "  over_line = (smooth_path + path_deviation)[0] \n",
        "\n",
        "  ax.plot(time_series_df, linewidth=2)\n",
        "  ax.fill_between(\n",
        "      path_deviation.index,\n",
        "      under_line,\n",
        "      over_line,\n",
        "      alpha= 0.125\n",
        "  )\n",
        "\n",
        "  ax.set_title(class_name)"
      ],
      "execution_count": null,
      "outputs": []
    },
    {
      "cell_type": "code",
      "metadata": {
        "colab": {
          "base_uri": "https://localhost:8080/",
          "height": 585
        },
        "id": "jcCo1xzUdhqz",
        "outputId": "839d963c-b445-492a-d460-b8f5967b19f3"
      },
      "source": [
        "classes = pmu_df['Events'].unique()\n",
        "from matplotlib import pyplot as plt\n",
        "fig,axs = plt.subplots(\n",
        "    nrows=len(classes)//4 + 1,\n",
        "    ncols = 4,\n",
        "    sharey=True,\n",
        "    figsize=(14, 8)\n",
        ")\n",
        "\n",
        "for i,cls in enumerate(classes):\n",
        "  data = pmu_df[pmu_df['Events'] == cls].drop(labels='Events',axis=1).mean(axis=0).to_numpy()\n",
        "  ax = axs.flat[i]\n",
        "  plot_time_series_class(data, class_names[i], ax)\n",
        "fig.delaxes(axs.flat[-1])\n",
        "fig.tight_layout();"
      ],
      "execution_count": null,
      "outputs": [
        {
          "output_type": "display_data",
          "data": {
            "image/png": "[encoded data removed]",
            "text/plain": [
              "<Figure size 1008x576 with 11 Axes>"
            ]
          },
          "metadata": {
            "tags": [],
            "needs_background": "light"
          }
        }
      ]
    },
    {
      "cell_type": "markdown",
      "metadata": {
        "id": "rljMlAKU4kCP"
      },
      "source": [
        "# R1"
      ]
    },
    {
      "cell_type": "code",
      "metadata": {
        "id": "H8A7Vb9t4jt1"
      },
      "source": [
        "import pandas as pd\n",
        "df = pd.read_csv('/content/gdrive/MyDrive/Shreya_PMU/Shreya_R1.csv')"
      ],
      "execution_count": null,
      "outputs": []
    },
    {
      "cell_type": "code",
      "metadata": {
        "colab": {
          "base_uri": "https://localhost:8080/"
        },
        "id": "sMGHeOpklSLa",
        "outputId": "79bae9ba-6ce4-4e30-93e6-9b36b67934ed"
      },
      "source": [
        "df['Events'].value_counts() # How many events are there\n",
        "df.loc[1500:2500,['Events','Freq']]\n",
        "df.index"
      ],
      "execution_count": null,
      "outputs": [
        {
          "output_type": "execute_result",
          "data": {
            "text/plain": [
              "RangeIndex(start=0, stop=2184852, step=1)"
            ]
          },
          "metadata": {
            "tags": []
          },
          "execution_count": 34
        }
      ]
    },
    {
      "cell_type": "markdown",
      "metadata": {
        "id": "C_TC8uhQRJ9l"
      },
      "source": [
        "Experiment_to_set Events as index and sort "
      ]
    },
    {
      "cell_type": "code",
      "metadata": {
        "colab": {
          "base_uri": "https://localhost:8080/",
          "height": 486
        },
        "id": "33cMoxcLRSIo",
        "outputId": "3f19dab1-41c3-4d0a-d09d-518a81a3a807"
      },
      "source": [
        "df = pd.read_csv('/content/gdrive/MyDrive/Shreya_PMU/Shreya_R1.csv',index_col='Events')\n",
        "df.head()\n",
        "df.sort_index(ascending=False)\n"
      ],
      "execution_count": null,
      "outputs": [
        {
          "output_type": "stream",
          "text": [
            "/usr/local/lib/python3.7/dist-packages/numpy/lib/arraysetops.py:580: FutureWarning: elementwise comparison failed; returning scalar instead, but in the future will perform elementwise comparison\n",
            "  mask |= (ar1 == a)\n"
          ],
          "name": "stderr"
        },
        {
          "output_type": "execute_result",
          "data": {
            "text/html": [
              "<div>\n",
              "<style scoped>\n",
              "    .dataframe tbody tr th:only-of-type {\n",
              "        vertical-align: middle;\n",
              "    }\n",
              "\n",
              "    .dataframe tbody tr th {\n",
              "        vertical-align: top;\n",
              "    }\n",
              "\n",
              "    .dataframe thead th {\n",
              "        text-align: right;\n",
              "    }\n",
              "</style>\n",
              "<table border=\"1\" class=\"dataframe\">\n",
              "  <thead>\n",
              "    <tr style=\"text-align: right;\">\n",
              "      <th></th>\n",
              "      <th>Va_mag</th>\n",
              "      <th>Vb_mag</th>\n",
              "      <th>Vc_mag</th>\n",
              "      <th>Ia_mag</th>\n",
              "      <th>Ib_mag</th>\n",
              "      <th>Ic_mag</th>\n",
              "      <th>V1_mag</th>\n",
              "      <th>I1_mag</th>\n",
              "      <th>V2_mag</th>\n",
              "      <th>V0_mag</th>\n",
              "      <th>I0_mag</th>\n",
              "      <th>I2_mag</th>\n",
              "      <th>Va_ang</th>\n",
              "      <th>Vb_ang</th>\n",
              "      <th>Vc_ang</th>\n",
              "      <th>Ia_ang</th>\n",
              "      <th>Ib_ang</th>\n",
              "      <th>Ic_ang</th>\n",
              "      <th>V1_ang</th>\n",
              "      <th>I1_ang</th>\n",
              "      <th>V2_ang</th>\n",
              "      <th>V0_ang</th>\n",
              "      <th>I0_ang</th>\n",
              "      <th>I2_ang</th>\n",
              "      <th>Freq</th>\n",
              "      <th>ROCOF</th>\n",
              "    </tr>\n",
              "    <tr>\n",
              "      <th>Events</th>\n",
              "      <th></th>\n",
              "      <th></th>\n",
              "      <th></th>\n",
              "      <th></th>\n",
              "      <th></th>\n",
              "      <th></th>\n",
              "      <th></th>\n",
              "      <th></th>\n",
              "      <th></th>\n",
              "      <th></th>\n",
              "      <th></th>\n",
              "      <th></th>\n",
              "      <th></th>\n",
              "      <th></th>\n",
              "      <th></th>\n",
              "      <th></th>\n",
              "      <th></th>\n",
              "      <th></th>\n",
              "      <th></th>\n",
              "      <th></th>\n",
              "      <th></th>\n",
              "      <th></th>\n",
              "      <th></th>\n",
              "      <th></th>\n",
              "      <th></th>\n",
              "      <th></th>\n",
              "    </tr>\n",
              "  </thead>\n",
              "  <tbody>\n",
              "    <tr>\n",
              "      <th>9</th>\n",
              "      <td>10442.500977</td>\n",
              "      <td>10442.442383</td>\n",
              "      <td>10442.550781</td>\n",
              "      <td>508.632416</td>\n",
              "      <td>508.607941</td>\n",
              "      <td>508.604279</td>\n",
              "      <td>10442.498047</td>\n",
              "      <td>508.614868</td>\n",
              "      <td>0.063056</td>\n",
              "      <td>0.000402</td>\n",
              "      <td>0.000268</td>\n",
              "      <td>0.017576</td>\n",
              "      <td>147.023407</td>\n",
              "      <td>27.023907</td>\n",
              "      <td>-92.976059</td>\n",
              "      <td>-47.313530</td>\n",
              "      <td>-167.315582</td>\n",
              "      <td>72.687805</td>\n",
              "      <td>147.023758</td>\n",
              "      <td>-47.313770</td>\n",
              "      <td>60.119968</td>\n",
              "      <td>-60.848789</td>\n",
              "      <td>-50.373337</td>\n",
              "      <td>-40.437401</td>\n",
              "      <td>60.035999</td>\n",
              "      <td>0.0</td>\n",
              "    </tr>\n",
              "    <tr>\n",
              "      <th>9</th>\n",
              "      <td>10275.310547</td>\n",
              "      <td>10275.324219</td>\n",
              "      <td>10275.306641</td>\n",
              "      <td>520.972168</td>\n",
              "      <td>520.973022</td>\n",
              "      <td>520.970398</td>\n",
              "      <td>10275.313477</td>\n",
              "      <td>520.971863</td>\n",
              "      <td>0.010359</td>\n",
              "      <td>0.001134</td>\n",
              "      <td>0.000217</td>\n",
              "      <td>0.001549</td>\n",
              "      <td>123.097084</td>\n",
              "      <td>3.097015</td>\n",
              "      <td>-116.903015</td>\n",
              "      <td>-74.746056</td>\n",
              "      <td>165.253677</td>\n",
              "      <td>45.253708</td>\n",
              "      <td>123.097031</td>\n",
              "      <td>-74.746223</td>\n",
              "      <td>-130.134750</td>\n",
              "      <td>179.741104</td>\n",
              "      <td>-63.874432</td>\n",
              "      <td>7.452332</td>\n",
              "      <td>60.009998</td>\n",
              "      <td>0.0</td>\n",
              "    </tr>\n",
              "    <tr>\n",
              "      <th>9</th>\n",
              "      <td>10479.515625</td>\n",
              "      <td>10479.511719</td>\n",
              "      <td>10479.395508</td>\n",
              "      <td>504.439484</td>\n",
              "      <td>504.472351</td>\n",
              "      <td>504.470398</td>\n",
              "      <td>10479.474609</td>\n",
              "      <td>504.460754</td>\n",
              "      <td>0.079643</td>\n",
              "      <td>0.001090</td>\n",
              "      <td>0.000188</td>\n",
              "      <td>0.021349</td>\n",
              "      <td>-124.260864</td>\n",
              "      <td>115.738373</td>\n",
              "      <td>-4.261240</td>\n",
              "      <td>42.905235</td>\n",
              "      <td>-77.092857</td>\n",
              "      <td>162.902939</td>\n",
              "      <td>-124.261246</td>\n",
              "      <td>42.905106</td>\n",
              "      <td>-65.359962</td>\n",
              "      <td>-28.187378</td>\n",
              "      <td>34.753284</td>\n",
              "      <td>-140.128723</td>\n",
              "      <td>60.016998</td>\n",
              "      <td>0.0</td>\n",
              "    </tr>\n",
              "    <tr>\n",
              "      <th>9</th>\n",
              "      <td>10479.488281</td>\n",
              "      <td>10479.537109</td>\n",
              "      <td>10479.400391</td>\n",
              "      <td>504.438110</td>\n",
              "      <td>504.473145</td>\n",
              "      <td>504.471283</td>\n",
              "      <td>10479.475586</td>\n",
              "      <td>504.460846</td>\n",
              "      <td>0.079450</td>\n",
              "      <td>0.000924</td>\n",
              "      <td>0.000183</td>\n",
              "      <td>0.022803</td>\n",
              "      <td>-124.360382</td>\n",
              "      <td>115.638916</td>\n",
              "      <td>-4.360970</td>\n",
              "      <td>42.805664</td>\n",
              "      <td>-77.192268</td>\n",
              "      <td>162.803223</td>\n",
              "      <td>-124.360817</td>\n",
              "      <td>42.805542</td>\n",
              "      <td>-43.681549</td>\n",
              "      <td>-31.429365</td>\n",
              "      <td>34.687206</td>\n",
              "      <td>-139.861694</td>\n",
              "      <td>60.016998</td>\n",
              "      <td>0.0</td>\n",
              "    </tr>\n",
              "    <tr>\n",
              "      <th>9</th>\n",
              "      <td>10479.496094</td>\n",
              "      <td>10479.508789</td>\n",
              "      <td>10479.429688</td>\n",
              "      <td>504.439209</td>\n",
              "      <td>504.471954</td>\n",
              "      <td>504.472290</td>\n",
              "      <td>10479.478516</td>\n",
              "      <td>504.461151</td>\n",
              "      <td>0.049771</td>\n",
              "      <td>0.000500</td>\n",
              "      <td>0.000195</td>\n",
              "      <td>0.021968</td>\n",
              "      <td>-124.460129</td>\n",
              "      <td>115.539398</td>\n",
              "      <td>-4.460420</td>\n",
              "      <td>42.705948</td>\n",
              "      <td>-77.291847</td>\n",
              "      <td>162.703827</td>\n",
              "      <td>-124.460373</td>\n",
              "      <td>42.705975</td>\n",
              "      <td>-56.465858</td>\n",
              "      <td>-23.200512</td>\n",
              "      <td>32.011002</td>\n",
              "      <td>-136.702087</td>\n",
              "      <td>60.016998</td>\n",
              "      <td>0.0</td>\n",
              "    </tr>\n",
              "    <tr>\n",
              "      <th>...</th>\n",
              "      <td>...</td>\n",
              "      <td>...</td>\n",
              "      <td>...</td>\n",
              "      <td>...</td>\n",
              "      <td>...</td>\n",
              "      <td>...</td>\n",
              "      <td>...</td>\n",
              "      <td>...</td>\n",
              "      <td>...</td>\n",
              "      <td>...</td>\n",
              "      <td>...</td>\n",
              "      <td>...</td>\n",
              "      <td>...</td>\n",
              "      <td>...</td>\n",
              "      <td>...</td>\n",
              "      <td>...</td>\n",
              "      <td>...</td>\n",
              "      <td>...</td>\n",
              "      <td>...</td>\n",
              "      <td>...</td>\n",
              "      <td>...</td>\n",
              "      <td>...</td>\n",
              "      <td>...</td>\n",
              "      <td>...</td>\n",
              "      <td>...</td>\n",
              "      <td>...</td>\n",
              "    </tr>\n",
              "    <tr>\n",
              "      <th>0</th>\n",
              "      <td>10414.342773</td>\n",
              "      <td>10414.375977</td>\n",
              "      <td>10414.361328</td>\n",
              "      <td>476.623413</td>\n",
              "      <td>476.622925</td>\n",
              "      <td>476.623962</td>\n",
              "      <td>10414.361328</td>\n",
              "      <td>476.623474</td>\n",
              "      <td>0.019187</td>\n",
              "      <td>0.000577</td>\n",
              "      <td>0.000224</td>\n",
              "      <td>0.000596</td>\n",
              "      <td>-15.617258</td>\n",
              "      <td>-135.617249</td>\n",
              "      <td>104.382584</td>\n",
              "      <td>144.904373</td>\n",
              "      <td>24.904493</td>\n",
              "      <td>-95.095535</td>\n",
              "      <td>-15.617306</td>\n",
              "      <td>144.904449</td>\n",
              "      <td>138.056900</td>\n",
              "      <td>29.531330</td>\n",
              "      <td>146.694229</td>\n",
              "      <td>48.969078</td>\n",
              "      <td>60.076000</td>\n",
              "      <td>0.0</td>\n",
              "    </tr>\n",
              "    <tr>\n",
              "      <th>0</th>\n",
              "      <td>10414.353516</td>\n",
              "      <td>10414.337891</td>\n",
              "      <td>10414.368164</td>\n",
              "      <td>476.624756</td>\n",
              "      <td>476.621887</td>\n",
              "      <td>476.623657</td>\n",
              "      <td>10414.352539</td>\n",
              "      <td>476.623474</td>\n",
              "      <td>0.016900</td>\n",
              "      <td>0.000637</td>\n",
              "      <td>0.000235</td>\n",
              "      <td>0.001599</td>\n",
              "      <td>-16.071114</td>\n",
              "      <td>-136.070969</td>\n",
              "      <td>103.929024</td>\n",
              "      <td>144.450592</td>\n",
              "      <td>24.450657</td>\n",
              "      <td>-95.549103</td>\n",
              "      <td>-16.071024</td>\n",
              "      <td>144.450714</td>\n",
              "      <td>-104.281891</td>\n",
              "      <td>38.083244</td>\n",
              "      <td>147.854614</td>\n",
              "      <td>105.100914</td>\n",
              "      <td>60.076000</td>\n",
              "      <td>0.0</td>\n",
              "    </tr>\n",
              "    <tr>\n",
              "      <th>0</th>\n",
              "      <td>10414.367188</td>\n",
              "      <td>10414.356445</td>\n",
              "      <td>10414.334961</td>\n",
              "      <td>476.624695</td>\n",
              "      <td>476.623474</td>\n",
              "      <td>476.622772</td>\n",
              "      <td>10414.353516</td>\n",
              "      <td>476.623657</td>\n",
              "      <td>0.018958</td>\n",
              "      <td>0.000926</td>\n",
              "      <td>0.000243</td>\n",
              "      <td>0.001047</td>\n",
              "      <td>-16.524633</td>\n",
              "      <td>-136.524811</td>\n",
              "      <td>103.475327</td>\n",
              "      <td>143.997070</td>\n",
              "      <td>23.996904</td>\n",
              "      <td>-96.002914</td>\n",
              "      <td>-16.524704</td>\n",
              "      <td>143.997025</td>\n",
              "      <td>25.054680</td>\n",
              "      <td>44.882469</td>\n",
              "      <td>147.849487</td>\n",
              "      <td>166.337677</td>\n",
              "      <td>60.076000</td>\n",
              "      <td>0.0</td>\n",
              "    </tr>\n",
              "    <tr>\n",
              "      <th>0</th>\n",
              "      <td>10414.331055</td>\n",
              "      <td>10414.366211</td>\n",
              "      <td>10414.350586</td>\n",
              "      <td>476.623505</td>\n",
              "      <td>476.622894</td>\n",
              "      <td>476.624023</td>\n",
              "      <td>10414.348633</td>\n",
              "      <td>476.623413</td>\n",
              "      <td>0.020289</td>\n",
              "      <td>0.000728</td>\n",
              "      <td>0.000235</td>\n",
              "      <td>0.000667</td>\n",
              "      <td>-16.978298</td>\n",
              "      <td>-136.978302</td>\n",
              "      <td>103.021530</td>\n",
              "      <td>143.543289</td>\n",
              "      <td>23.543409</td>\n",
              "      <td>-96.456612</td>\n",
              "      <td>-16.978355</td>\n",
              "      <td>143.543365</td>\n",
              "      <td>133.799377</td>\n",
              "      <td>51.216427</td>\n",
              "      <td>145.693161</td>\n",
              "      <td>50.521633</td>\n",
              "      <td>60.076000</td>\n",
              "      <td>0.0</td>\n",
              "    </tr>\n",
              "    <tr>\n",
              "      <th>0</th>\n",
              "      <td>10444.065430</td>\n",
              "      <td>10444.123047</td>\n",
              "      <td>10444.109375</td>\n",
              "      <td>488.898834</td>\n",
              "      <td>488.888580</td>\n",
              "      <td>488.899323</td>\n",
              "      <td>10444.098633</td>\n",
              "      <td>488.895569</td>\n",
              "      <td>0.035204</td>\n",
              "      <td>0.000419</td>\n",
              "      <td>0.000230</td>\n",
              "      <td>0.006972</td>\n",
              "      <td>116.380997</td>\n",
              "      <td>-3.618906</td>\n",
              "      <td>-123.619225</td>\n",
              "      <td>-77.734711</td>\n",
              "      <td>162.266068</td>\n",
              "      <td>42.266701</td>\n",
              "      <td>116.380959</td>\n",
              "      <td>-77.733978</td>\n",
              "      <td>-77.819450</td>\n",
              "      <td>-164.235840</td>\n",
              "      <td>-89.202782</td>\n",
              "      <td>-140.654877</td>\n",
              "      <td>60.030998</td>\n",
              "      <td>0.0</td>\n",
              "    </tr>\n",
              "  </tbody>\n",
              "</table>\n",
              "<p>2184852 rows × 26 columns</p>\n",
              "</div>"
            ],
            "text/plain": [
              "              Va_mag        Vb_mag        Vc_mag  ...      I2_ang       Freq  ROCOF\n",
              "Events                                            ...                              \n",
              "9       10442.500977  10442.442383  10442.550781  ...  -40.437401  60.035999    0.0\n",
              "9       10275.310547  10275.324219  10275.306641  ...    7.452332  60.009998    0.0\n",
              "9       10479.515625  10479.511719  10479.395508  ... -140.128723  60.016998    0.0\n",
              "9       10479.488281  10479.537109  10479.400391  ... -139.861694  60.016998    0.0\n",
              "9       10479.496094  10479.508789  10479.429688  ... -136.702087  60.016998    0.0\n",
              "...              ...           ...           ...  ...         ...        ...    ...\n",
              "0       10414.342773  10414.375977  10414.361328  ...   48.969078  60.076000    0.0\n",
              "0       10414.353516  10414.337891  10414.368164  ...  105.100914  60.076000    0.0\n",
              "0       10414.367188  10414.356445  10414.334961  ...  166.337677  60.076000    0.0\n",
              "0       10414.331055  10414.366211  10414.350586  ...   50.521633  60.076000    0.0\n",
              "0       10444.065430  10444.123047  10444.109375  ... -140.654877  60.030998    0.0\n",
              "\n",
              "[2184852 rows x 26 columns]"
            ]
          },
          "metadata": {
            "tags": []
          },
          "execution_count": 35
        }
      ]
    },
    {
      "cell_type": "code",
      "metadata": {
        "colab": {
          "base_uri": "https://localhost:8080/",
          "height": 245
        },
        "id": "Z-1WggXITCXm",
        "outputId": "75b93fd4-ffd1-4e44-fe9d-73cda87c6572"
      },
      "source": [
        ""
      ],
      "execution_count": null,
      "outputs": [
        {
          "output_type": "execute_result",
          "data": {
            "text/html": [
              "<div>\n",
              "<style scoped>\n",
              "    .dataframe tbody tr th:only-of-type {\n",
              "        vertical-align: middle;\n",
              "    }\n",
              "\n",
              "    .dataframe tbody tr th {\n",
              "        vertical-align: top;\n",
              "    }\n",
              "\n",
              "    .dataframe thead th {\n",
              "        text-align: right;\n",
              "    }\n",
              "</style>\n",
              "<table border=\"1\" class=\"dataframe\">\n",
              "  <thead>\n",
              "    <tr style=\"text-align: right;\">\n",
              "      <th></th>\n",
              "      <th>Va_mag</th>\n",
              "      <th>Vb_mag</th>\n",
              "      <th>Vc_mag</th>\n",
              "      <th>Ia_mag</th>\n",
              "      <th>Ib_mag</th>\n",
              "      <th>Ic_mag</th>\n",
              "      <th>V1_mag</th>\n",
              "      <th>I1_mag</th>\n",
              "      <th>V2_mag</th>\n",
              "      <th>V0_mag</th>\n",
              "      <th>I0_mag</th>\n",
              "      <th>I2_mag</th>\n",
              "      <th>Va_ang</th>\n",
              "      <th>Vb_ang</th>\n",
              "      <th>Vc_ang</th>\n",
              "      <th>Ia_ang</th>\n",
              "      <th>Ib_ang</th>\n",
              "      <th>Ic_ang</th>\n",
              "      <th>V1_ang</th>\n",
              "      <th>I1_ang</th>\n",
              "      <th>V2_ang</th>\n",
              "      <th>V0_ang</th>\n",
              "      <th>I0_ang</th>\n",
              "      <th>I2_ang</th>\n",
              "      <th>Freq</th>\n",
              "      <th>ROCOF</th>\n",
              "    </tr>\n",
              "    <tr>\n",
              "      <th>Events</th>\n",
              "      <th></th>\n",
              "      <th></th>\n",
              "      <th></th>\n",
              "      <th></th>\n",
              "      <th></th>\n",
              "      <th></th>\n",
              "      <th></th>\n",
              "      <th></th>\n",
              "      <th></th>\n",
              "      <th></th>\n",
              "      <th></th>\n",
              "      <th></th>\n",
              "      <th></th>\n",
              "      <th></th>\n",
              "      <th></th>\n",
              "      <th></th>\n",
              "      <th></th>\n",
              "      <th></th>\n",
              "      <th></th>\n",
              "      <th></th>\n",
              "      <th></th>\n",
              "      <th></th>\n",
              "      <th></th>\n",
              "      <th></th>\n",
              "      <th></th>\n",
              "      <th></th>\n",
              "    </tr>\n",
              "  </thead>\n",
              "  <tbody>\n",
              "    <tr>\n",
              "      <th>0</th>\n",
              "      <td>10444.051758</td>\n",
              "      <td>10444.073242</td>\n",
              "      <td>10444.112305</td>\n",
              "      <td>488.900208</td>\n",
              "      <td>488.887451</td>\n",
              "      <td>488.900299</td>\n",
              "      <td>10444.078125</td>\n",
              "      <td>488.895996</td>\n",
              "      <td>0.035766</td>\n",
              "      <td>0.000373</td>\n",
              "      <td>0.000214</td>\n",
              "      <td>0.008529</td>\n",
              "      <td>115.640388</td>\n",
              "      <td>-4.359292</td>\n",
              "      <td>-124.359566</td>\n",
              "      <td>-78.475288</td>\n",
              "      <td>161.525620</td>\n",
              "      <td>41.526436</td>\n",
              "      <td>115.640511</td>\n",
              "      <td>-78.474411</td>\n",
              "      <td>-25.801832</td>\n",
              "      <td>-124.194229</td>\n",
              "      <td>-87.766777</td>\n",
              "      <td>-139.425491</td>\n",
              "      <td>60.030998</td>\n",
              "      <td>0.0</td>\n",
              "    </tr>\n",
              "    <tr>\n",
              "      <th>0</th>\n",
              "      <td>10444.051758</td>\n",
              "      <td>10444.112305</td>\n",
              "      <td>10444.096680</td>\n",
              "      <td>488.899231</td>\n",
              "      <td>488.888947</td>\n",
              "      <td>488.899811</td>\n",
              "      <td>10444.086914</td>\n",
              "      <td>488.896027</td>\n",
              "      <td>0.036575</td>\n",
              "      <td>0.000432</td>\n",
              "      <td>0.000234</td>\n",
              "      <td>0.007070</td>\n",
              "      <td>115.825676</td>\n",
              "      <td>-4.174230</td>\n",
              "      <td>-124.174561</td>\n",
              "      <td>-78.290047</td>\n",
              "      <td>161.710754</td>\n",
              "      <td>41.711380</td>\n",
              "      <td>115.825607</td>\n",
              "      <td>-78.289299</td>\n",
              "      <td>-78.812187</td>\n",
              "      <td>-154.322983</td>\n",
              "      <td>-83.760620</td>\n",
              "      <td>-141.507370</td>\n",
              "      <td>60.030998</td>\n",
              "      <td>0.0</td>\n",
              "    </tr>\n",
              "    <tr>\n",
              "      <th>0</th>\n",
              "      <td>10444.081055</td>\n",
              "      <td>10444.088867</td>\n",
              "      <td>10444.091797</td>\n",
              "      <td>488.900452</td>\n",
              "      <td>488.888031</td>\n",
              "      <td>488.898621</td>\n",
              "      <td>10444.086914</td>\n",
              "      <td>488.895691</td>\n",
              "      <td>0.006853</td>\n",
              "      <td>0.000555</td>\n",
              "      <td>0.000223</td>\n",
              "      <td>0.007736</td>\n",
              "      <td>116.010735</td>\n",
              "      <td>-3.989226</td>\n",
              "      <td>-123.989288</td>\n",
              "      <td>-78.104912</td>\n",
              "      <td>161.895706</td>\n",
              "      <td>41.896637</td>\n",
              "      <td>116.010735</td>\n",
              "      <td>-78.104195</td>\n",
              "      <td>-50.817806</td>\n",
              "      <td>-172.202057</td>\n",
              "      <td>-87.328232</td>\n",
              "      <td>-130.727600</td>\n",
              "      <td>60.030998</td>\n",
              "      <td>0.0</td>\n",
              "    </tr>\n",
              "    <tr>\n",
              "      <th>0</th>\n",
              "      <td>10444.062500</td>\n",
              "      <td>10444.084961</td>\n",
              "      <td>10444.123047</td>\n",
              "      <td>488.899780</td>\n",
              "      <td>488.887054</td>\n",
              "      <td>488.899841</td>\n",
              "      <td>10444.089844</td>\n",
              "      <td>488.895569</td>\n",
              "      <td>0.035143</td>\n",
              "      <td>0.000340</td>\n",
              "      <td>0.000248</td>\n",
              "      <td>0.008475</td>\n",
              "      <td>116.195724</td>\n",
              "      <td>-3.803962</td>\n",
              "      <td>-123.804230</td>\n",
              "      <td>-77.919952</td>\n",
              "      <td>162.080933</td>\n",
              "      <td>42.081760</td>\n",
              "      <td>116.195847</td>\n",
              "      <td>-77.919083</td>\n",
              "      <td>-25.983152</td>\n",
              "      <td>-159.146774</td>\n",
              "      <td>-86.780655</td>\n",
              "      <td>-138.735321</td>\n",
              "      <td>60.030998</td>\n",
              "      <td>0.0</td>\n",
              "    </tr>\n",
              "    <tr>\n",
              "      <th>0</th>\n",
              "      <td>10444.065430</td>\n",
              "      <td>10444.123047</td>\n",
              "      <td>10444.109375</td>\n",
              "      <td>488.898834</td>\n",
              "      <td>488.888580</td>\n",
              "      <td>488.899323</td>\n",
              "      <td>10444.098633</td>\n",
              "      <td>488.895569</td>\n",
              "      <td>0.035204</td>\n",
              "      <td>0.000419</td>\n",
              "      <td>0.000230</td>\n",
              "      <td>0.006972</td>\n",
              "      <td>116.380997</td>\n",
              "      <td>-3.618906</td>\n",
              "      <td>-123.619225</td>\n",
              "      <td>-77.734711</td>\n",
              "      <td>162.266068</td>\n",
              "      <td>42.266701</td>\n",
              "      <td>116.380959</td>\n",
              "      <td>-77.733978</td>\n",
              "      <td>-77.819450</td>\n",
              "      <td>-164.235840</td>\n",
              "      <td>-89.202782</td>\n",
              "      <td>-140.654877</td>\n",
              "      <td>60.030998</td>\n",
              "      <td>0.0</td>\n",
              "    </tr>\n",
              "  </tbody>\n",
              "</table>\n",
              "</div>"
            ],
            "text/plain": [
              "              Va_mag        Vb_mag        Vc_mag  ...      I2_ang       Freq  ROCOF\n",
              "Events                                            ...                              \n",
              "0       10444.051758  10444.073242  10444.112305  ... -139.425491  60.030998    0.0\n",
              "0       10444.051758  10444.112305  10444.096680  ... -141.507370  60.030998    0.0\n",
              "0       10444.081055  10444.088867  10444.091797  ... -130.727600  60.030998    0.0\n",
              "0       10444.062500  10444.084961  10444.123047  ... -138.735321  60.030998    0.0\n",
              "0       10444.065430  10444.123047  10444.109375  ... -140.654877  60.030998    0.0\n",
              "\n",
              "[5 rows x 26 columns]"
            ]
          },
          "metadata": {
            "tags": []
          },
          "execution_count": 44
        }
      ]
    },
    {
      "cell_type": "code",
      "metadata": {
        "id": "mnveExRE4i8b"
      },
      "source": [
        "Signals = list(pmu_df.columns)\n",
        "pmu_df['Events'].value_counts()\n",
        "import seaborn as sns\n",
        "bar_plt = sns.countplot(pmu_df['Events'])\n",
        "bar_plt.set_xticklabels(class_names,rotation=30);"
      ],
      "execution_count": null,
      "outputs": []
    },
    {
      "cell_type": "code",
      "metadata": {
        "id": "b_If7q4Lce2V"
      },
      "source": [
        "import numpy as np"
      ],
      "execution_count": null,
      "outputs": []
    },
    {
      "cell_type": "code",
      "metadata": {
        "colab": {
          "base_uri": "https://localhost:8080/"
        },
        "id": "Y6wPt1yaWKl6",
        "outputId": "f871b408-37f4-4e29-f73e-35aea7647b35"
      },
      "source": [
        "df[\"diff\"] = df['Events'].diff()\n",
        "df[\"diff\"].unique()\n",
        "df.loc[pd.isnull(df[\"diff\"]),\"diff\"] = 0 # loc has rows \n",
        "df[\"Indexing\"] = np.array(range(1,df.shape[0]+1))\n",
        "type(df[\"Indexing\"])\n",
        "df[\"Indexing\"]  \n",
        "df['diff'].value_counts() \n",
        "indices = list(df.loc[df['diff']!=0,\"Indexing\"])   # Place where there is a new calss updated\n",
        "indices.insert(0,1)\n",
        "indices[0:5]\n",
        "len(indices)\n",
        "indices[3410]\n",
        "indices.insert(len(indices),df.shape[0])\n",
        "indices[0:10]\n",
        "df.loc[1175:1179,'Events']"
      ],
      "execution_count": null,
      "outputs": [
        {
          "output_type": "execute_result",
          "data": {
            "text/plain": [
              "1175    0\n",
              "1176    9\n",
              "1177    9\n",
              "1178    9\n",
              "1179    9\n",
              "Name: Events, dtype: int64"
            ]
          },
          "metadata": {
            "tags": []
          },
          "execution_count": 87
        }
      ]
    },
    {
      "cell_type": "code",
      "metadata": {
        "id": "sOJiLJgLmkp2"
      },
      "source": [
        ""
      ],
      "execution_count": null,
      "outputs": []
    },
    {
      "cell_type": "markdown",
      "metadata": {
        "id": "VsMdBrJ-lQyh"
      },
      "source": [
        "# R2"
      ]
    },
    {
      "cell_type": "code",
      "metadata": {
        "id": "K7DoBQTHlXoN"
      },
      "source": [
        "import pandas as pd\n",
        "import numpy as np\n",
        "df = pd.read_csv('/content/gdrive/MyDrive/Shreya_PMU/Shreya_R1.csv')"
      ],
      "execution_count": 12,
      "outputs": []
    },
    {
      "cell_type": "code",
      "metadata": {
        "id": "FqvrApi3kwe4"
      },
      "source": [
        "df_events = df.loc[df['Events']!=0]\n",
        "df_non_ev = df.loc[df['Events'] ==0]"
      ],
      "execution_count": null,
      "outputs": []
    },
    {
      "cell_type": "code",
      "metadata": {
        "id": "s5Su0oqslglu"
      },
      "source": [
        "#To generate a book-keeping scheme. \n",
        "def diffe(df):\n",
        "    df[\"diff\"] = df.Events.diff()\n",
        "    df.loc[pd.isnull(df[\"diff\"]),\"diff\"] = 0   # This is just to remove nan generated from the previous step\n",
        "    df[\"Indexing\"] = np.array(range(1,df.shape[0]+1))  # Just created a false indexing starting from 1 and running till the end\n",
        "    indices = list(df.loc[df[\"diff\"]!=0,\"Indexing\"])  #create a list [] containing location of diffs that are not equal to 0 \n",
        "    indices.insert(0,1) # included 1 at the fist change\n",
        "    indices.insert(len(indices),df.shape[0]) # I dont understand why this is needed\n",
        "    return indices,df"
      ],
      "execution_count": null,
      "outputs": []
    },
    {
      "cell_type": "code",
      "metadata": {
        "id": "3DIq7qTvlIiY"
      },
      "source": [
        "indices,df_events = diffe(df_events)"
      ],
      "execution_count": null,
      "outputs": []
    },
    {
      "cell_type": "code",
      "metadata": {
        "id": "ANLUA0J2xEXk"
      },
      "source": [
        "import torch"
      ],
      "execution_count": null,
      "outputs": []
    },
    {
      "cell_type": "code",
      "metadata": {
        "id": "C7EhET8MucW6"
      },
      "source": [
        "def converter(df,indices):\n",
        "    data_df = pd.DataFrame()\n",
        "    pmu_events = torch.tensor(())\n",
        "    labels = torch.tensor(())\n",
        "    #df_t = torch.zeros(len(indices),88,26)\n",
        "    for i in range(1,len(indices)):\n",
        "      temp = df.loc[(df.Indexing>=indices[i-1])&(df.Indexing<indices[i])]  # And opertation True * True = Ture\n",
        "      t_events = torch.from_numpy(temp.Events.unique()).unsqueeze(0)\n",
        "      temp = temp.drop([\"Events\",\"diff\",\"Indexing\"],1)\n",
        "      temp = temp.iloc[0:88]\n",
        "      temp = temp.to_numpy()\n",
        "      temp = torch.from_numpy(temp).unsqueeze(0)\n",
        "      #print(temp.shape)\n",
        "      pmu_events = torch.cat((pmu_events,temp),dim=0)\n",
        "      labels = torch.cat((labels,t_events), dim=0)\n",
        "    pmu_events.transpose_(1,2)\n",
        "    return pmu_events,labels\n"
      ],
      "execution_count": 107,
      "outputs": []
    },
    {
      "cell_type": "code",
      "metadata": {
        "colab": {
          "base_uri": "https://localhost:8080/"
        },
        "id": "j6aD5SvYxJWz",
        "outputId": "3672e5bf-3032-4e0a-c180-1d363a421f5c"
      },
      "source": [
        "pmu_events,labels = converter(df_events,indices)\n",
        "pmu_events.shape, labels.shape"
      ],
      "execution_count": 132,
      "outputs": [
        {
          "output_type": "execute_result",
          "data": {
            "text/plain": [
              "(torch.Size([1550, 26, 88]), torch.Size([1550]))"
            ]
          },
          "metadata": {
            "tags": []
          },
          "execution_count": 132
        }
      ]
    },
    {
      "cell_type": "code",
      "metadata": {
        "colab": {
          "base_uri": "https://localhost:8080/"
        },
        "id": "BAEG1JXp1cuP",
        "outputId": "63cf7703-452c-4271-bffd-df2bcab7d200"
      },
      "source": [
        "pmu_events[0].shape, labels[0]"
      ],
      "execution_count": 134,
      "outputs": [
        {
          "output_type": "execute_result",
          "data": {
            "text/plain": [
              "(torch.Size([26, 88]), tensor(9.))"
            ]
          },
          "metadata": {
            "tags": []
          },
          "execution_count": 134
        }
      ]
    },
    {
      "cell_type": "markdown",
      "metadata": {
        "id": "uGNPEROawAO9"
      },
      "source": [
        "# Plotting the PMU Events"
      ]
    },
    {
      "cell_type": "code",
      "metadata": {
        "id": "ndzjWQggwDfO"
      },
      "source": [
        "import matplotlib.pyplot as plt\n",
        "labels_vars = labels.unique()"
      ],
      "execution_count": 135,
      "outputs": []
    },
    {
      "cell_type": "code",
      "metadata": {
        "id": "FzKllXc5FnNe"
      },
      "source": [
        "healthy =  0\n",
        "class_names = ['Load_on','Load_off','Gen_trip','Line_trip','Cap_on','Cap_off','3_ph_fault','1LG_Fault','2Ph_G_Fault']\n",
        "signals = df.columns"
      ],
      "execution_count": 181,
      "outputs": []
    },
    {
      "cell_type": "code",
      "metadata": {
        "id": "XigzPppOA4ca"
      },
      "source": [
        "def plot_time_series_class(data, class_name, ax, n_steps=5):\n",
        "  time_series_df = pd.DataFrame(data)\n",
        "\n",
        "  smooth_path = time_series_df.rolling(n_steps).mean()\n",
        "  path_deviation = 2 * time_series_df.rolling(n_steps).std()\n",
        "\n",
        "  under_line = (smooth_path - path_deviation)[0]\n",
        "  over_line = (smooth_path + path_deviation)[0]\n",
        "\n",
        "  ax.plot(time_series_df, linewidth=2) #instead of smooth_path\n",
        "  ax.fill_between(\n",
        "    path_deviation.index,\n",
        "    under_line,\n",
        "    over_line,\n",
        "    alpha=.125\n",
        "  )\n",
        "  ax.set_title(class_name)\n",
        "  #ax.yaxis(signals[i])\n",
        "  #ax.xaxis('Samples')"
      ],
      "execution_count": 191,
      "outputs": []
    },
    {
      "cell_type": "code",
      "metadata": {
        "colab": {
          "base_uri": "https://localhost:8080/",
          "height": 585
        },
        "id": "YWUk5uYY2FOS",
        "outputId": "e05b6a7f-2f63-4e60-f86f-9c9ee1c87857"
      },
      "source": [
        "fig, axs = plt.subplots(\n",
        "  nrows=len(labels_vars) // 3 ,\n",
        "  ncols=3,\n",
        "  sharex=True,\n",
        "  figsize=(14, 8)\n",
        ")\n",
        "\n",
        "for i, cls in enumerate(labels_vars):\n",
        "  ax = axs.flat[i]\n",
        "  data = pmu_events[labels == cls] \\\n",
        "    .numpy() \\\n",
        "    .mean(axis=0)\n",
        "  plot_time_series_class(data[0], class_names[i], ax)  # you can change from 0 to 25 to get various plots\n",
        "\n",
        "#fig.delaxes(axs.flat[-1])\n",
        "fig.tight_layout();\n"
      ],
      "execution_count": 196,
      "outputs": [
        {
          "output_type": "display_data",
          "data": {
            "image/png": "[encoded data removed]",
            "text/plain": [
              "<Figure size 1008x576 with 9 Axes>"
            ]
          },
          "metadata": {
            "tags": [],
            "needs_background": "light"
          }
        }
      ]
    },
    {
      "cell_type": "code",
      "metadata": {
        "colab": {
          "base_uri": "https://localhost:8080/",
          "height": 282
        },
        "id": "X50j3uZX4PYb",
        "outputId": "d9afcee8-e63e-49f2-9f0f-4ebf863ed8dd"
      },
      "source": [
        "x = data[1]\n",
        "plt.plot(x)\n"
      ],
      "execution_count": 157,
      "outputs": [
        {
          "output_type": "execute_result",
          "data": {
            "text/plain": [
              "[<matplotlib.lines.Line2D at 0x7fc5f5285390>]"
            ]
          },
          "metadata": {
            "tags": []
          },
          "execution_count": 157
        },
        {
          "output_type": "display_data",
          "data": {
            "image/png": "[encoded data removed]",
            "text/plain": [
              "<Figure size 432x288 with 1 Axes>"
            ]
          },
          "metadata": {
            "tags": [],
            "needs_background": "light"
          }
        }
      ]
    },
    {
      "cell_type": "code",
      "metadata": {
        "colab": {
          "base_uri": "https://localhost:8080/",
          "height": 320
        },
        "id": "rdIm4Eo_4aEw",
        "outputId": "5a0abc9d-4fce-497d-b7bc-9dd7e025f71e"
      },
      "source": [
        "import seaborn as sns\n",
        "x = sns.countplot(labels.numpy())"
      ],
      "execution_count": 125,
      "outputs": [
        {
          "output_type": "stream",
          "text": [
            "/usr/local/lib/python3.7/dist-packages/seaborn/_decorators.py:43: FutureWarning: Pass the following variable as a keyword arg: x. From version 0.12, the only valid positional argument will be `data`, and passing other arguments without an explicit keyword will result in an error or misinterpretation.\n",
            "  FutureWarning\n"
          ],
          "name": "stderr"
        },
        {
          "output_type": "display_data",
          "data": {
            "image/png": "[encoded data removed]",
            "text/plain": [
              "<Figure size 432x288 with 1 Axes>"
            ]
          },
          "metadata": {
            "tags": [],
            "needs_background": "light"
          }
        }
      ]
    },
    {
      "cell_type": "markdown",
      "metadata": {
        "id": "-fWlbHn-wK18"
      },
      "source": [
        "\n",
        "\n",
        "\n",
        "\n"
      ]
    },
    {
      "cell_type": "code",
      "metadata": {
        "id": "9pF4G76rwKeD"
      },
      "source": [
        ""
      ],
      "execution_count": null,
      "outputs": []
    },
    {
      "cell_type": "markdown",
      "metadata": {
        "id": "5N5I3mJCnK2W"
      },
      "source": [
        "# Experimentation"
      ]
    },
    {
      "cell_type": "code",
      "metadata": {
        "id": "IGWkeAhynPH9"
      },
      "source": [
        "mini = (df_events['Indexing']>=indices[0]) \n",
        "maxi = (df_events['Indexing']<indices[1])\n",
        "\n",
        "temp = df_events.loc[(df_events['Indexing']>=indices[0]) & (df_events['Indexing']<indices[1])]\n",
        "temp.shape\n",
        "t_events = temp['Events'].unique()\n",
        "temp = temp.drop([\"Events\",\"diff\",\"Indexing\"],1)\n",
        "temp = temp.iloc[0:88]\n",
        "print(temp.shape)\n",
        "temp_event = []\n",
        "temp_event.extend(t_events)\n",
        "temp"
      ],
      "execution_count": null,
      "outputs": []
    },
    {
      "cell_type": "code",
      "metadata": {
        "id": "Jg1GLbAJt4To"
      },
      "source": [
        "x = [1, 2, 3]\n",
        "x.extend([4, 5])\n",
        "print(x)"
      ],
      "execution_count": null,
      "outputs": []
    },
    {
      "cell_type": "code",
      "metadata": {
        "colab": {
          "base_uri": "https://localhost:8080/"
        },
        "id": "jPfLllN8t8eR",
        "outputId": "bd74202f-465f-4b24-fa59-328d8ee190fd"
      },
      "source": [
        "\n",
        "x = [1, 2, 3]\n",
        "x.append([4, 5])\n",
        "print(x)\n"
      ],
      "execution_count": null,
      "outputs": [
        {
          "output_type": "stream",
          "text": [
            "[1, 2, 3, [4, 5]]\n"
          ],
          "name": "stdout"
        }
      ]
    },
    {
      "cell_type": "code",
      "metadata": {
        "colab": {
          "base_uri": "https://localhost:8080/"
        },
        "id": "pLN6hLn4y6ZF",
        "outputId": "1b44cacd-6a0a-427c-8ee4-67de5e02dc5e"
      },
      "source": [
        "x = torch.randn(2, 3)\n",
        "x = torch.unsqueeze(x,0)\n",
        "x = torch.cat((x,x,x),0)\n",
        "x.shape\n",
        "torch.zeros(len(indices),88,26).shape"
      ],
      "execution_count": null,
      "outputs": [
        {
          "output_type": "execute_result",
          "data": {
            "text/plain": [
              "torch.Size([1551, 88, 26])"
            ]
          },
          "metadata": {
            "tags": []
          },
          "execution_count": 163
        }
      ]
    },
    {
      "cell_type": "code",
      "metadata": {
        "colab": {
          "base_uri": "https://localhost:8080/",
          "height": 202
        },
        "id": "GQEcCDIT4jFX",
        "outputId": "28176d29-fc78-4743-b387-ce869e845ce7"
      },
      "source": [
        "import torch\n",
        "x = torch.empty(5, 7)\n",
        "for i in range(10):\n",
        "  x[i] = calc_result  "
      ],
      "execution_count": 60,
      "outputs": [
        {
          "output_type": "error",
          "ename": "NameError",
          "evalue": "ignored",
          "traceback": [
            "\u001b[0;31m---------------------------------------------------------------------------\u001b[0m",
            "\u001b[0;31mNameError\u001b[0m                                 Traceback (most recent call last)",
            "\u001b[0;32m<ipython-input-60-5e57edd5c441>\u001b[0m in \u001b[0;36m<module>\u001b[0;34m()\u001b[0m\n\u001b[1;32m      2\u001b[0m \u001b[0mx\u001b[0m \u001b[0;34m=\u001b[0m \u001b[0mtorch\u001b[0m\u001b[0;34m.\u001b[0m\u001b[0mempty\u001b[0m\u001b[0;34m(\u001b[0m\u001b[0;36m5\u001b[0m\u001b[0;34m,\u001b[0m \u001b[0;36m7\u001b[0m\u001b[0;34m)\u001b[0m\u001b[0;34m\u001b[0m\u001b[0;34m\u001b[0m\u001b[0m\n\u001b[1;32m      3\u001b[0m \u001b[0;32mfor\u001b[0m \u001b[0mi\u001b[0m \u001b[0;32min\u001b[0m \u001b[0mrange\u001b[0m\u001b[0;34m(\u001b[0m\u001b[0;36m10\u001b[0m\u001b[0;34m)\u001b[0m\u001b[0;34m:\u001b[0m\u001b[0;34m\u001b[0m\u001b[0;34m\u001b[0m\u001b[0m\n\u001b[0;32m----> 4\u001b[0;31m   \u001b[0mx\u001b[0m\u001b[0;34m[\u001b[0m\u001b[0mi\u001b[0m\u001b[0;34m]\u001b[0m \u001b[0;34m=\u001b[0m \u001b[0mcalc_result\u001b[0m\u001b[0;34m\u001b[0m\u001b[0;34m\u001b[0m\u001b[0m\n\u001b[0m",
            "\u001b[0;31mNameError\u001b[0m: name 'calc_result' is not defined"
          ]
        }
      ]
    },
    {
      "cell_type": "code",
      "metadata": {
        "id": "0-MayKHLUYtM"
      },
      "source": [
        " import torch\n",
        " a = torch.randn([2, 3, 4])\n",
        " b = [] \n",
        "  \n",
        " for i in range(5):\n",
        "   a = torch.randn([2, 3, 4])\n",
        "   b[i,_,_,_]= a\n",
        "\n",
        "b.shape"
      ],
      "execution_count": null,
      "outputs": []
    },
    {
      "cell_type": "code",
      "metadata": {
        "id": "KboPMhmkckWH"
      },
      "source": [
        "import numpy as np\n",
        "a = np.array([[1, 2], [3, 4]])\n",
        "a.shape # (2, 2)\n",
        "b = np.array([[5, 6]])\n",
        "b.shape # (1, 2)\n",
        "np.concatenate((a, b), axis=2)"
      ],
      "execution_count": null,
      "outputs": []
    },
    {
      "cell_type": "code",
      "metadata": {
        "colab": {
          "base_uri": "https://localhost:8080/"
        },
        "id": "5Xz0PqKddgPm",
        "outputId": "e710ed99-8b91-4f28-da97-d0bb2ca0dfe9"
      },
      "source": [
        "x = [[[0 for k in range(5)] for j in range(4)] for i in range(3)]\n"
      ],
      "execution_count": null,
      "outputs": [
        {
          "output_type": "execute_result",
          "data": {
            "text/plain": [
              "[[[0, 0, 0, 0, 0], [0, 0, 0, 0, 0], [0, 0, 0, 0, 0], [0, 0, 0, 0, 0]],\n",
              " [[0, 0, 0, 0, 0], [0, 0, 0, 0, 0], [0, 0, 0, 0, 0], [0, 0, 0, 0, 0]],\n",
              " [[0, 0, 0, 0, 0], [0, 0, 0, 0, 0], [0, 0, 0, 0, 0], [0, 0, 0, 0, 0]]]"
            ]
          },
          "metadata": {
            "tags": []
          },
          "execution_count": 22
        }
      ]
    },
    {
      "cell_type": "code",
      "metadata": {
        "id": "rrr7uOGtent6",
        "colab": {
          "base_uri": "https://localhost:8080/"
        },
        "outputId": "41ec88b0-4507-41a0-9ade-67e5a65eeabe"
      },
      "source": [
        "a = torch.tensor(())\n",
        "for i in range(3):\n",
        "    # if i = torch.tensor(1)\n",
        "    # it cannot be cat, since it has \n",
        "    # zero dimention.\n",
        "    # Also use .float() to make sure that they \n",
        "    # are in the same dtype\n",
        "    i = torch.tensor([i]).float()\n",
        "    a = torch.cat((a, i), 0)\n",
        "print(a)\n"
      ],
      "execution_count": 41,
      "outputs": [
        {
          "output_type": "stream",
          "text": [
            "tensor([0., 1., 2.])\n"
          ],
          "name": "stdout"
        }
      ]
    },
    {
      "cell_type": "code",
      "metadata": {
        "colab": {
          "base_uri": "https://localhost:8080/"
        },
        "id": "CYYn3mY33KQ9",
        "outputId": "55b5a6f7-1df3-4778-863e-e84304e4c1c8"
      },
      "source": [
        "y = torch.tensor(())\n",
        "#y = torch.empty(1,2,3)\n",
        "for i in range(5):\n",
        "  x = torch.randn(2,3)\n",
        "  x = torch.unsqueeze(x,0)\n",
        "  #print(x.shape)\n",
        "  y = torch.cat((y,x),dim=0)\n",
        "y.shape\n"
      ],
      "execution_count": 64,
      "outputs": [
        {
          "output_type": "execute_result",
          "data": {
            "text/plain": [
              "torch.Size([5, 2, 3])"
            ]
          },
          "metadata": {
            "tags": []
          },
          "execution_count": 64
        }
      ]
    },
    {
      "cell_type": "code",
      "metadata": {
        "colab": {
          "base_uri": "https://localhost:8080/"
        },
        "id": "9b8qXY63uT9y",
        "outputId": "3258edde-ea64-4a2d-c02f-736d8f7918ea"
      },
      "source": [
        "outstack = torch.tensor(())\n",
        "for i in range(100):\n",
        "  x = torch.rand(50,20).unsqueeze(0)\n",
        "  outstack = torch.cat([outstack,x],dim=0)\n",
        "outstack.shape\n"
      ],
      "execution_count": 83,
      "outputs": [
        {
          "output_type": "execute_result",
          "data": {
            "text/plain": [
              "torch.Size([100, 50, 20])"
            ]
          },
          "metadata": {
            "tags": []
          },
          "execution_count": 83
        }
      ]
    },
    {
      "cell_type": "code",
      "metadata": {
        "colab": {
          "base_uri": "https://localhost:8080/"
        },
        "id": "yh9HghO3xQGG",
        "outputId": "901444bd-53bf-4fb4-e4e2-105e28a249b0"
      },
      "source": [
        "outx = []\n",
        "for i in range(5):\n",
        "    tmp = torch.rand(10,10) # this will return a 10x10 tensor\n",
        "    outx.append(tmp)\n",
        "\n",
        "outx = torch.stack(outx, 0)\n",
        "outx.shape"
      ],
      "execution_count": 88,
      "outputs": [
        {
          "output_type": "execute_result",
          "data": {
            "text/plain": [
              "torch.Size([5, 10, 10])"
            ]
          },
          "metadata": {
            "tags": []
          },
          "execution_count": 88
        }
      ]
    },
    {
      "cell_type": "code",
      "metadata": {
        "colab": {
          "base_uri": "https://localhost:8080/"
        },
        "id": "mloFBhWvx4Hx",
        "outputId": "ee3fa765-c85a-487d-8053-e76e5dbf93f1"
      },
      "source": [
        "PMU_events = []\n",
        "\n",
        "for i in range(100):\n",
        "  x = torch.rand(2,3)\n",
        "  PMU_events.append(x)  # list now has to be converted into a stack\n",
        "PMU_events = torch.stack(PMU_events)\n",
        "PMU_events.shape"
      ],
      "execution_count": 100,
      "outputs": [
        {
          "output_type": "execute_result",
          "data": {
            "text/plain": [
              "torch.Size([100, 2, 3])"
            ]
          },
          "metadata": {
            "tags": []
          },
          "execution_count": 100
        }
      ]
    }
  ]
}