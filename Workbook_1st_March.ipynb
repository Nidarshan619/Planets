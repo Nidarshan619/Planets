{
  "nbformat": 4,
  "nbformat_minor": 0,
  "metadata": {
    "colab": {
      "name": "Workbook 1st March.ipynb",
      "provenance": [],
      "authorship_tag": "ABX9TyODBx/ETCvhEUnH5Lu0QwoI",
      "include_colab_link": true
    },
    "kernelspec": {
      "name": "python3",
      "display_name": "Python 3"
    }
  },
  "cells": [
    {
      "cell_type": "markdown",
      "metadata": {
        "id": "view-in-github",
        "colab_type": "text"
      },
      "source": [
        "<a href=\"https://colab.research.google.com/github/Nidarshan619/Planets/blob/master/Workbook_1st_March.ipynb\" target=\"_parent\"><img src=\"https://colab.research.google.com/assets/colab-badge.svg\" alt=\"Open In Colab\"/></a>"
      ]
    },
    {
      "cell_type": "code",
      "metadata": {
        "colab": {
          "base_uri": "https://localhost:8080/"
        },
        "id": "0KdegQSHzGvk",
        "outputId": "0a9b0b69-c1ac-4591-e16c-3d1212b25946"
      },
      "source": [
        "class shark:\r\n",
        "  def swim(self):\r\n",
        "    print(\"THe shark is swimming\")\r\n",
        "\r\n",
        "  def be_awesome(self):\r\n",
        "    print(\"The shark is being awesome\")\r\n",
        "\r\n",
        "Nidarshan = shark()  #Nidarshan is an object of class shark\r\n",
        "Nidarshan.swim()\r\n",
        "Nidarshan.be_awesome()  #Nidarshan object has 2 methods\r\n",
        "\r\n"
      ],
      "execution_count": 2,
      "outputs": [
        {
          "output_type": "stream",
          "text": [
            "THe shark is swimming\n",
            "The shark is being awesome\n"
          ],
          "name": "stdout"
        }
      ]
    },
    {
      "cell_type": "code",
      "metadata": {
        "colab": {
          "base_uri": "https://localhost:8080/"
        },
        "id": "AB3XsRkH0mcO",
        "outputId": "9b3ca525-db06-4699-e6ef-a1d30a181715"
      },
      "source": [
        "class person:\r\n",
        "  def __init__(self):\r\n",
        "    print(\"this is a constructor method\")\r\n",
        "\r\n",
        "  def playing(self):\r\n",
        "    print (\"the person is playing\")\r\n",
        "\r\n",
        "  def is_awesome(self):\r\n",
        "    print (\"THe person is awesome\")\r\n",
        "\r\n",
        "def people():  #Just defining it as a main code \r\n",
        "  Nidarshan = person()\r\n",
        "  Nidarshan.is_awesome()\r\n",
        "  Nidarshan.playing()\r\n",
        "\r\n",
        "if __name__==\"__main__\":  # Run the code with the name people as main code\r\n",
        "  people()\r\n",
        "# THIS IS SO NICE, MAKE A SNIPPET OF THE CODE AND PUT IT UNDER A DEF  OF A NAME, THEN YOU CAN JUST RUN THE CODE RELATED TO THE NAME JUST BY CALLING THE NAME AS MAIN\r\n"
      ],
      "execution_count": 16,
      "outputs": [
        {
          "output_type": "stream",
          "text": [
            "this is a constructor method\n",
            "THe person is awesome\n",
            "the person is playing\n"
          ],
          "name": "stdout"
        }
      ]
    },
    {
      "cell_type": "code",
      "metadata": {
        "id": "NJ4LLezD2OPU"
      },
      "source": [
        "class shark:\r\n",
        "  def __init__(self):\r\n",
        "    print(\"this is a constructor method\")\r\n",
        "    "
      ],
      "execution_count": 15,
      "outputs": []
    },
    {
      "cell_type": "code",
      "metadata": {
        "colab": {
          "base_uri": "https://localhost:8080/"
        },
        "id": "FMtc-Svg3h2m",
        "outputId": "034e65b6-809d-4c27-b6f2-d5d2ce8c1db9"
      },
      "source": [
        "class person:\r\n",
        "  \r\n",
        "  def __init__(self,name):\r\n",
        "    print(\"This is a constructor class\")\r\n",
        "    self.name = name # The reference variable that can be used inside the class is self.name\r\n",
        "\r\n",
        "  def playing(self):\r\n",
        "    print(self.name + \" is playing\")\r\n",
        "\r\n",
        "  def is_awesome(self):\r\n",
        "    print(self.name + \" is awesome\")\r\n",
        "\r\n",
        "def main_code():\r\n",
        "  Nidarshan = person(\"Nidarshan\")\r\n",
        "  Nidarshan.playing()\r\n",
        "  Nidarshan.is_awesome()\r\n",
        "\r\n",
        "if __name__ == \"__main__\":\r\n",
        "  main_code()\r\n",
        "\r\n",
        "\r\n",
        "\r\n",
        "Mohith = person(\"Mohith\")\r\n",
        "Mohith.playing()\r\n",
        "Mohith.is_awesome()"
      ],
      "execution_count": 25,
      "outputs": [
        {
          "output_type": "stream",
          "text": [
            "This is a constructor class\n",
            "Nidarshan is playing\n",
            "Nidarshan is awesome\n",
            "This is a constructor class\n",
            "Mohith is playing\n",
            "Mohith is awesome\n"
          ],
          "name": "stdout"
        }
      ]
    },
    {
      "cell_type": "code",
      "metadata": {
        "colab": {
          "base_uri": "https://localhost:8080/"
        },
        "id": "En6iYYRM67eL",
        "outputId": "17ea6794-9aa7-49a2-af78-3513d5688e9e"
      },
      "source": [
        "class person:\r\n",
        "\r\n",
        "  def __init__(self,name,age):\r\n",
        "    self.name = name\r\n",
        "    self.age = age\r\n",
        "\r\n",
        "  def details(self):\r\n",
        "    print(self.name + \" is a man and he is \" + self.age + \" years old.\")\r\n",
        "\r\n",
        "Nidarshan = person(\"Nidarshan\", \"28\") #Nidarshan = person(\"Nidarshan\", 28)\r\n",
        "Nidarshan.details()\r\n"
      ],
      "execution_count": 32,
      "outputs": [
        {
          "output_type": "stream",
          "text": [
            "Nidarshan is a man and he is 28 years old.\n"
          ],
          "name": "stdout"
        }
      ]
    },
    {
      "cell_type": "markdown",
      "metadata": {
        "id": "hGLcnI-cCmuN"
      },
      "source": [
        "https://www.digitalocean.com/community/tutorials/understanding-class-and-instance-variables-in-python-3\r\n",
        "\r\n",
        "https://www.geeksforgeeks.org/numpy-random-get_state-in-python/"
      ]
    },
    {
      "cell_type": "code",
      "metadata": {
        "id": "cmTfItwECrkS"
      },
      "source": [
        ""
      ],
      "execution_count": null,
      "outputs": []
    }
  ]
}